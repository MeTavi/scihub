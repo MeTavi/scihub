{
 "cells": [
  {
   "cell_type": "markdown",
   "metadata": {},
   "source": [
    "# Assess sci-hub coverage"
   ]
  },
  {
   "cell_type": "code",
   "execution_count": 1,
   "metadata": {
    "collapsed": true
   },
   "outputs": [],
   "source": [
    "import collections\n",
    "import lzma\n",
    "\n",
    "import pandas"
   ]
  },
  {
   "cell_type": "code",
   "execution_count": 2,
   "metadata": {
    "collapsed": false
   },
   "outputs": [
    {
     "data": {
      "text/plain": [
       "2755"
      ]
     },
     "execution_count": 2,
     "metadata": {},
     "output_type": "execute_result"
    }
   ],
   "source": [
    "prefix_counts = collections.Counter()\n",
    "with lzma.open('download/doi.log.xz', 'rt', encoding='cp1252') as read_file:\n",
    "    for doi in read_file:\n",
    "        doi = doi.strip()\n",
    "        prefix, tail = doi.split('/', 1)\n",
    "        prefix = prefix.strip('.')\n",
    "        prefix_counts[prefix] += 1\n",
    "len(prefix_counts)"
   ]
  },
  {
   "cell_type": "code",
   "execution_count": 3,
   "metadata": {
    "collapsed": false
   },
   "outputs": [
    {
     "data": {
      "text/html": [
       "<div>\n",
       "<table border=\"1\" class=\"dataframe\">\n",
       "  <thead>\n",
       "    <tr style=\"text-align: right;\">\n",
       "      <th></th>\n",
       "      <th>member_id</th>\n",
       "      <th>member_name</th>\n",
       "      <th>location</th>\n",
       "      <th>n_works_member</th>\n",
       "      <th>prefix_id</th>\n",
       "      <th>prefix_name</th>\n",
       "      <th>n_works_prefix</th>\n",
       "      <th>n_works_scihub</th>\n",
       "      <th>coverage</th>\n",
       "    </tr>\n",
       "  </thead>\n",
       "  <tbody>\n",
       "    <tr>\n",
       "      <th>0</th>\n",
       "      <td>1</td>\n",
       "      <td>Annals of Family Medicine</td>\n",
       "      <td>11400 Tomahawk Creek Pkwy Leawood 66211-2672 U...</td>\n",
       "      <td>1777.0</td>\n",
       "      <td>10.1370</td>\n",
       "      <td>Annals of Family Medicine</td>\n",
       "      <td>1822</td>\n",
       "      <td>1746.0</td>\n",
       "      <td>0.958288</td>\n",
       "    </tr>\n",
       "    <tr>\n",
       "      <th>1</th>\n",
       "      <td>2</td>\n",
       "      <td>American Association of Petroleum Geologists A...</td>\n",
       "      <td>1444 South Boulder Tulsa 74119 United States</td>\n",
       "      <td>22704.0</td>\n",
       "      <td>10.1306</td>\n",
       "      <td>AAPG/Datapages</td>\n",
       "      <td>22560</td>\n",
       "      <td>3536.0</td>\n",
       "      <td>0.156738</td>\n",
       "    </tr>\n",
       "  </tbody>\n",
       "</table>\n",
       "</div>"
      ],
      "text/plain": [
       "   member_id                                        member_name  \\\n",
       "0          1                          Annals of Family Medicine   \n",
       "1          2  American Association of Petroleum Geologists A...   \n",
       "\n",
       "                                            location  n_works_member  \\\n",
       "0  11400 Tomahawk Creek Pkwy Leawood 66211-2672 U...          1777.0   \n",
       "1       1444 South Boulder Tulsa 74119 United States         22704.0   \n",
       "\n",
       "  prefix_id                prefix_name  n_works_prefix  n_works_scihub  \\\n",
       "0   10.1370  Annals of Family Medicine            1822          1746.0   \n",
       "1   10.1306             AAPG/Datapages           22560          3536.0   \n",
       "\n",
       "   coverage  \n",
       "0  0.958288  \n",
       "1  0.156738  "
      ]
     },
     "execution_count": 3,
     "metadata": {},
     "output_type": "execute_result"
    }
   ],
   "source": [
    "prefix_df = pandas.read_table('data/crossref-prefixes.tsv', dtype={'prefix_id': str})\n",
    "prefix_df = prefix_df.query(\"n_works_prefix > 0\")\n",
    "prefix_df['n_works_scihub'] = prefix_df.prefix_id.map(prefix_counts).fillna(0)\n",
    "prefix_df['coverage'] = prefix_df.n_works_scihub / prefix_df.n_works_prefix\n",
    "prefix_df.head(2)"
   ]
  },
  {
   "cell_type": "code",
   "execution_count": 4,
   "metadata": {
    "collapsed": false
   },
   "outputs": [],
   "source": [
    "write_df = prefix_df[['prefix_id', 'prefix_name', 'n_works_scihub', 'n_works_prefix', 'coverage']]\n",
    "write_df.to_csv('data/scihub-prefix-coverage.tsv', sep='\\t', float_format='%.4g', index=False)"
   ]
  },
  {
   "cell_type": "code",
   "execution_count": 5,
   "metadata": {
    "collapsed": false
   },
   "outputs": [
    {
     "data": {
      "text/html": [
       "<div>\n",
       "<table border=\"1\" class=\"dataframe\">\n",
       "  <thead>\n",
       "    <tr style=\"text-align: right;\">\n",
       "      <th></th>\n",
       "      <th>member_id</th>\n",
       "      <th>member_name</th>\n",
       "      <th>n_works_scihub</th>\n",
       "      <th>n_works_prefix</th>\n",
       "      <th>n_works_member</th>\n",
       "      <th>coverage</th>\n",
       "    </tr>\n",
       "  </thead>\n",
       "  <tbody>\n",
       "    <tr>\n",
       "      <th>0</th>\n",
       "      <td>1</td>\n",
       "      <td>Annals of Family Medicine</td>\n",
       "      <td>1746</td>\n",
       "      <td>1822</td>\n",
       "      <td>1777.0</td>\n",
       "      <td>0.958288</td>\n",
       "    </tr>\n",
       "    <tr>\n",
       "      <th>1</th>\n",
       "      <td>2</td>\n",
       "      <td>American Association of Petroleum Geologists A...</td>\n",
       "      <td>3929</td>\n",
       "      <td>23305</td>\n",
       "      <td>22704.0</td>\n",
       "      <td>0.168590</td>\n",
       "    </tr>\n",
       "  </tbody>\n",
       "</table>\n",
       "</div>"
      ],
      "text/plain": [
       "   member_id                                        member_name  \\\n",
       "0          1                          Annals of Family Medicine   \n",
       "1          2  American Association of Petroleum Geologists A...   \n",
       "\n",
       "   n_works_scihub  n_works_prefix  n_works_member  coverage  \n",
       "0            1746            1822          1777.0  0.958288  \n",
       "1            3929           23305         22704.0  0.168590  "
      ]
     },
     "execution_count": 5,
     "metadata": {},
     "output_type": "execute_result"
    }
   ],
   "source": [
    "def group(df):\n",
    "    row = pandas.Series()\n",
    "    row['n_works_scihub'] = sum(df.n_works_scihub)\n",
    "    row['n_works_prefix'] = sum(df.n_works_prefix)\n",
    "    row['n_works_member'] = df.n_works_member.iloc[0]\n",
    "    row['coverage'] = row['n_works_scihub'] / row['n_works_prefix']\n",
    "    return row\n",
    "member_df = prefix_df.groupby(['member_id', 'member_name']).apply(group).reset_index()\n",
    "for column in 'n_works_scihub', 'n_works_prefix':\n",
    "    member_df[column] = member_df[column].astype(int)\n",
    "member_df.head(2)"
   ]
  },
  {
   "cell_type": "code",
   "execution_count": 6,
   "metadata": {
    "collapsed": false
   },
   "outputs": [],
   "source": [
    "member_df.to_csv('data/scihub-member-coverage.tsv', sep='\\t', float_format='%.4g', index=False)"
   ]
  }
 ],
 "metadata": {
  "kernelspec": {
   "display_name": "Python [conda root]",
   "language": "python",
   "name": "conda-root-py"
  },
  "language_info": {
   "codemirror_mode": {
    "name": "ipython",
    "version": 3
   },
   "file_extension": ".py",
   "mimetype": "text/x-python",
   "name": "python",
   "nbconvert_exporter": "python",
   "pygments_lexer": "ipython3",
   "version": "3.6.0"
  }
 },
 "nbformat": 4,
 "nbformat_minor": 2
}
