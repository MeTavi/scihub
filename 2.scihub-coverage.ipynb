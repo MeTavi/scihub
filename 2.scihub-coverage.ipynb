{
 "cells": [
  {
   "cell_type": "markdown",
   "metadata": {
    "deletable": true,
    "editable": true
   },
   "source": [
    "# Assess sci-hub coverage based on DOI prefixes\n",
    "\n",
    "Also see https://doi.org/10.1002/asi.23445"
   ]
  },
  {
   "cell_type": "code",
   "execution_count": 1,
   "metadata": {
    "collapsed": true,
    "deletable": true,
    "editable": true
   },
   "outputs": [],
   "source": [
    "import collections\n",
    "import json\n",
    "import lzma\n",
    "\n",
    "import pandas"
   ]
  },
  {
   "cell_type": "code",
   "execution_count": 2,
   "metadata": {
    "collapsed": false,
    "deletable": true,
    "editable": true
   },
   "outputs": [
    {
     "data": {
      "text/plain": [
       "2755"
      ]
     },
     "execution_count": 2,
     "metadata": {},
     "output_type": "execute_result"
    }
   ],
   "source": [
    "prefix_counts = collections.Counter()\n",
    "with lzma.open('download/doi.log.xz', 'rt', encoding='cp1252') as read_file:\n",
    "    for doi in read_file:\n",
    "        doi = doi.strip()\n",
    "        prefix, tail = doi.split('/', 1)\n",
    "        prefix = prefix.strip('.')\n",
    "        prefix_counts[prefix] += 1\n",
    "len(prefix_counts)"
   ]
  },
  {
   "cell_type": "code",
   "execution_count": 3,
   "metadata": {
    "collapsed": false,
    "deletable": true,
    "editable": true
   },
   "outputs": [
    {
     "data": {
      "text/html": [
       "<div>\n",
       "<table border=\"1\" class=\"dataframe\">\n",
       "  <thead>\n",
       "    <tr style=\"text-align: right;\">\n",
       "      <th></th>\n",
       "      <th>member_id</th>\n",
       "      <th>member_name</th>\n",
       "      <th>location</th>\n",
       "      <th>n_works_member</th>\n",
       "      <th>prefix_id</th>\n",
       "      <th>prefix_name</th>\n",
       "      <th>n_works_prefix</th>\n",
       "      <th>n_works_scihub</th>\n",
       "      <th>coverage</th>\n",
       "    </tr>\n",
       "  </thead>\n",
       "  <tbody>\n",
       "    <tr>\n",
       "      <th>0</th>\n",
       "      <td>1</td>\n",
       "      <td>Annals of Family Medicine</td>\n",
       "      <td>11400 Tomahawk Creek Pkwy Leawood 66211-2672 U...</td>\n",
       "      <td>1777.0</td>\n",
       "      <td>10.1370</td>\n",
       "      <td>Annals of Family Medicine</td>\n",
       "      <td>1822</td>\n",
       "      <td>1746.0</td>\n",
       "      <td>0.958288</td>\n",
       "    </tr>\n",
       "    <tr>\n",
       "      <th>1</th>\n",
       "      <td>2</td>\n",
       "      <td>American Association of Petroleum Geologists A...</td>\n",
       "      <td>1444 South Boulder Tulsa 74119 United States</td>\n",
       "      <td>22704.0</td>\n",
       "      <td>10.1306</td>\n",
       "      <td>AAPG/Datapages</td>\n",
       "      <td>22560</td>\n",
       "      <td>3536.0</td>\n",
       "      <td>0.156738</td>\n",
       "    </tr>\n",
       "  </tbody>\n",
       "</table>\n",
       "</div>"
      ],
      "text/plain": [
       "   member_id                                        member_name  \\\n",
       "0          1                          Annals of Family Medicine   \n",
       "1          2  American Association of Petroleum Geologists A...   \n",
       "\n",
       "                                            location  n_works_member  \\\n",
       "0  11400 Tomahawk Creek Pkwy Leawood 66211-2672 U...          1777.0   \n",
       "1       1444 South Boulder Tulsa 74119 United States         22704.0   \n",
       "\n",
       "  prefix_id                prefix_name  n_works_prefix  n_works_scihub  \\\n",
       "0   10.1370  Annals of Family Medicine            1822          1746.0   \n",
       "1   10.1306             AAPG/Datapages           22560          3536.0   \n",
       "\n",
       "   coverage  \n",
       "0  0.958288  \n",
       "1  0.156738  "
      ]
     },
     "execution_count": 3,
     "metadata": {},
     "output_type": "execute_result"
    }
   ],
   "source": [
    "prefix_df = pandas.read_table('data/crossref-prefixes.tsv', dtype={'prefix_id': str})\n",
    "prefix_df = prefix_df.query(\"n_works_prefix > 0 and n_works_member > 0\")\n",
    "prefix_df['n_works_scihub'] = prefix_df.prefix_id.map(prefix_counts).fillna(0)\n",
    "prefix_df['coverage'] = prefix_df.n_works_scihub / prefix_df.n_works_prefix\n",
    "prefix_df.head(2)"
   ]
  },
  {
   "cell_type": "code",
   "execution_count": 4,
   "metadata": {
    "collapsed": false,
    "deletable": true,
    "editable": true
   },
   "outputs": [],
   "source": [
    "write_df = prefix_df[['prefix_id', 'prefix_name', 'n_works_scihub', 'n_works_prefix', 'coverage']]\n",
    "write_df.to_csv('data/scihub-prefix-coverage.tsv', sep='\\t', float_format='%.4g', index=False)"
   ]
  },
  {
   "cell_type": "markdown",
   "metadata": {},
   "source": [
    "## Coverage per Crossref member\n",
    "\n",
    "\n",
    "Next we compute coverage by Crossref member, i.e. publisher. There are two methods to compute the number of DOIs per member:\n",
    "\n",
    "1. Sum the number of DOIs for each prefix associated with the publisher. This method creates `n_works_prefix` below.\n",
    "2. Use the number of works per member as reported by Crossref. This method creates `n_works_member` below.\n",
    "\n",
    "The two methods give different results. `n_works_prefix` is often a bit higher than `n_works_member`. The [Crossref documentation](https://github.com/CrossRef/rest-api-doc/blob/master/rest_api.md) doesn't provide an explanation for the discrepency. I went with `n_works_prefix` to compute coverage, since it reduced the number of members where Sci-Hub contained more DOIs than Crossref reported."
   ]
  },
  {
   "cell_type": "code",
   "execution_count": 5,
   "metadata": {
    "collapsed": false,
    "deletable": true,
    "editable": true
   },
   "outputs": [
    {
     "data": {
      "text/html": [
       "<div>\n",
       "<table border=\"1\" class=\"dataframe\">\n",
       "  <thead>\n",
       "    <tr style=\"text-align: right;\">\n",
       "      <th></th>\n",
       "      <th>member_id</th>\n",
       "      <th>member_name</th>\n",
       "      <th>n_works_scihub</th>\n",
       "      <th>n_works_prefix</th>\n",
       "      <th>n_works_member</th>\n",
       "      <th>coverage</th>\n",
       "    </tr>\n",
       "  </thead>\n",
       "  <tbody>\n",
       "    <tr>\n",
       "      <th>0</th>\n",
       "      <td>1</td>\n",
       "      <td>Annals of Family Medicine</td>\n",
       "      <td>1746</td>\n",
       "      <td>1822</td>\n",
       "      <td>1777</td>\n",
       "      <td>0.958288</td>\n",
       "    </tr>\n",
       "    <tr>\n",
       "      <th>1</th>\n",
       "      <td>2</td>\n",
       "      <td>American Association of Petroleum Geologists A...</td>\n",
       "      <td>3929</td>\n",
       "      <td>23305</td>\n",
       "      <td>22704</td>\n",
       "      <td>0.168590</td>\n",
       "    </tr>\n",
       "  </tbody>\n",
       "</table>\n",
       "</div>"
      ],
      "text/plain": [
       "   member_id                                        member_name  \\\n",
       "0          1                          Annals of Family Medicine   \n",
       "1          2  American Association of Petroleum Geologists A...   \n",
       "\n",
       "   n_works_scihub  n_works_prefix  n_works_member  coverage  \n",
       "0            1746            1822            1777  0.958288  \n",
       "1            3929           23305           22704  0.168590  "
      ]
     },
     "execution_count": 5,
     "metadata": {},
     "output_type": "execute_result"
    }
   ],
   "source": [
    "def group(df):\n",
    "    row = pandas.Series()\n",
    "    row['n_works_scihub'] = sum(df.n_works_scihub)\n",
    "    row['n_works_prefix'] = sum(df.n_works_prefix)\n",
    "    row['n_works_member'] = df.n_works_member.iloc[0]\n",
    "    row['coverage'] = row['n_works_scihub'] / row['n_works_prefix']\n",
    "    return row\n",
    "\n",
    "member_df = prefix_df.groupby(['member_id', 'member_name']).apply(group).reset_index()\n",
    "for column in 'n_works_scihub', 'n_works_prefix', 'n_works_member':\n",
    "    member_df[column] = member_df[column].astype(int)\n",
    "member_df.head(2)"
   ]
  },
  {
   "cell_type": "code",
   "execution_count": 6,
   "metadata": {
    "collapsed": false,
    "deletable": true,
    "editable": true
   },
   "outputs": [],
   "source": [
    "member_df.to_csv('data/scihub-member-coverage.tsv', sep='\\t', float_format='%.4g', index=False)"
   ]
  },
  {
   "cell_type": "code",
   "execution_count": 7,
   "metadata": {
    "collapsed": false,
    "deletable": true,
    "editable": true
   },
   "outputs": [
    {
     "data": {
      "text/html": [
       "<div>\n",
       "<table border=\"1\" class=\"dataframe\">\n",
       "  <thead>\n",
       "    <tr style=\"text-align: right;\">\n",
       "      <th></th>\n",
       "      <th>member_id</th>\n",
       "      <th>member_name</th>\n",
       "      <th>n_works_scihub</th>\n",
       "      <th>n_works_prefix</th>\n",
       "      <th>n_works_member</th>\n",
       "      <th>coverage</th>\n",
       "    </tr>\n",
       "  </thead>\n",
       "  <tbody>\n",
       "    <tr>\n",
       "      <th>36</th>\n",
       "      <td>78</td>\n",
       "      <td>Elsevier BV</td>\n",
       "      <td>14040758</td>\n",
       "      <td>15375364</td>\n",
       "      <td>14988181</td>\n",
       "      <td>0.913198</td>\n",
       "    </tr>\n",
       "    <tr>\n",
       "      <th>135</th>\n",
       "      <td>297</td>\n",
       "      <td>Springer Nature</td>\n",
       "      <td>6344750</td>\n",
       "      <td>10361652</td>\n",
       "      <td>9536567</td>\n",
       "      <td>0.612330</td>\n",
       "    </tr>\n",
       "    <tr>\n",
       "      <th>141</th>\n",
       "      <td>311</td>\n",
       "      <td>Wiley-Blackwell</td>\n",
       "      <td>6631012</td>\n",
       "      <td>8314081</td>\n",
       "      <td>8176553</td>\n",
       "      <td>0.797564</td>\n",
       "    </tr>\n",
       "    <tr>\n",
       "      <th>138</th>\n",
       "      <td>301</td>\n",
       "      <td>Informa UK Limited</td>\n",
       "      <td>2857071</td>\n",
       "      <td>3900188</td>\n",
       "      <td>3846781</td>\n",
       "      <td>0.732547</td>\n",
       "    </tr>\n",
       "    <tr>\n",
       "      <th>114</th>\n",
       "      <td>263</td>\n",
       "      <td>Institute of Electrical and Electronics Engine...</td>\n",
       "      <td>3629764</td>\n",
       "      <td>3715418</td>\n",
       "      <td>2936163</td>\n",
       "      <td>0.976946</td>\n",
       "    </tr>\n",
       "  </tbody>\n",
       "</table>\n",
       "</div>"
      ],
      "text/plain": [
       "     member_id                                        member_name  \\\n",
       "36          78                                        Elsevier BV   \n",
       "135        297                                    Springer Nature   \n",
       "141        311                                    Wiley-Blackwell   \n",
       "138        301                                 Informa UK Limited   \n",
       "114        263  Institute of Electrical and Electronics Engine...   \n",
       "\n",
       "     n_works_scihub  n_works_prefix  n_works_member  coverage  \n",
       "36         14040758        15375364        14988181  0.913198  \n",
       "135         6344750        10361652         9536567  0.612330  \n",
       "141         6631012         8314081         8176553  0.797564  \n",
       "138         2857071         3900188         3846781  0.732547  \n",
       "114         3629764         3715418         2936163  0.976946  "
      ]
     },
     "execution_count": 7,
     "metadata": {},
     "output_type": "execute_result"
    }
   ],
   "source": [
    "member_df.sort_values('n_works_prefix', ascending=False).head()"
   ]
  },
  {
   "cell_type": "code",
   "execution_count": 8,
   "metadata": {
    "collapsed": false,
    "deletable": true,
    "editable": true
   },
   "outputs": [
    {
     "data": {
      "text/plain": [
       "10"
      ]
     },
     "execution_count": 8,
     "metadata": {},
     "output_type": "execute_result"
    }
   ],
   "source": [
    "# Member names that are duplicated\n",
    "member_df.member_name.duplicated().sum()"
   ]
  },
  {
   "cell_type": "code",
   "execution_count": 9,
   "metadata": {
    "collapsed": false,
    "deletable": true,
    "editable": true
   },
   "outputs": [
    {
     "data": {
      "text/html": [
       "<div>\n",
       "<table border=\"1\" class=\"dataframe\">\n",
       "  <thead>\n",
       "    <tr style=\"text-align: right;\">\n",
       "      <th></th>\n",
       "      <th>member_name</th>\n",
       "      <th>n_works_scihub</th>\n",
       "      <th>n_works_prefix</th>\n",
       "      <th>n_works_member</th>\n",
       "      <th>coverage</th>\n",
       "    </tr>\n",
       "  </thead>\n",
       "  <tbody>\n",
       "    <tr>\n",
       "      <th>0</th>\n",
       "      <td>21st Century Political Science Association</td>\n",
       "      <td>0</td>\n",
       "      <td>390</td>\n",
       "      <td>359</td>\n",
       "      <td>0.0</td>\n",
       "    </tr>\n",
       "    <tr>\n",
       "      <th>1</th>\n",
       "      <td>A Fundacao para o Desenvolvimento de Bauru (Fu...</td>\n",
       "      <td>0</td>\n",
       "      <td>165</td>\n",
       "      <td>164</td>\n",
       "      <td>0.0</td>\n",
       "    </tr>\n",
       "  </tbody>\n",
       "</table>\n",
       "</div>"
      ],
      "text/plain": [
       "                                         member_name  n_works_scihub  \\\n",
       "0         21st Century Political Science Association               0   \n",
       "1  A Fundacao para o Desenvolvimento de Bauru (Fu...               0   \n",
       "\n",
       "   n_works_prefix  n_works_member  coverage  \n",
       "0             390             359       0.0  \n",
       "1             165             164       0.0  "
      ]
     },
     "execution_count": 9,
     "metadata": {},
     "output_type": "execute_result"
    }
   ],
   "source": [
    "def group(df):\n",
    "    row = pandas.Series()\n",
    "    row['n_works_scihub'] = sum(df.n_works_scihub)\n",
    "    row['n_works_prefix'] = sum(df.n_works_prefix)\n",
    "    row['n_works_member'] = sum(df.n_works_member)\n",
    "    row['coverage'] = row['n_works_scihub'] / row['n_works_prefix']\n",
    "    return row\n",
    "\n",
    "member_refined_df = (member_df\n",
    "    .query(\"n_works_prefix > 100\")\n",
    "    .query(\"coverage <= 1\")\n",
    "    .groupby('member_name')\n",
    "    .apply(group)\n",
    "    .reset_index()\n",
    ")\n",
    "\n",
    "for column in 'n_works_scihub', 'n_works_prefix', 'n_works_member':\n",
    "    member_refined_df[column] = member_refined_df[column].astype(int)\n",
    "\n",
    "member_refined_df.head(2)"
   ]
  },
  {
   "cell_type": "code",
   "execution_count": 10,
   "metadata": {
    "collapsed": false,
    "deletable": true,
    "editable": true
   },
   "outputs": [
    {
     "data": {
      "text/html": [
       "<div>\n",
       "<table border=\"1\" class=\"dataframe\">\n",
       "  <thead>\n",
       "    <tr style=\"text-align: right;\">\n",
       "      <th></th>\n",
       "      <th>member_name</th>\n",
       "      <th>n_works_scihub</th>\n",
       "      <th>n_works_prefix</th>\n",
       "      <th>n_works_member</th>\n",
       "      <th>coverage</th>\n",
       "    </tr>\n",
       "  </thead>\n",
       "  <tbody>\n",
       "    <tr>\n",
       "      <th>861</th>\n",
       "      <td>Elsevier BV</td>\n",
       "      <td>14040758</td>\n",
       "      <td>15375364</td>\n",
       "      <td>14988181</td>\n",
       "      <td>0.913198</td>\n",
       "    </tr>\n",
       "    <tr>\n",
       "      <th>3229</th>\n",
       "      <td>Springer Nature</td>\n",
       "      <td>7246978</td>\n",
       "      <td>11792386</td>\n",
       "      <td>10877314</td>\n",
       "      <td>0.614547</td>\n",
       "    </tr>\n",
       "    <tr>\n",
       "      <th>4220</th>\n",
       "      <td>Wiley-Blackwell</td>\n",
       "      <td>6631012</td>\n",
       "      <td>8314081</td>\n",
       "      <td>8176553</td>\n",
       "      <td>0.797564</td>\n",
       "    </tr>\n",
       "    <tr>\n",
       "      <th>1269</th>\n",
       "      <td>Informa UK Limited</td>\n",
       "      <td>2857071</td>\n",
       "      <td>3900188</td>\n",
       "      <td>3846781</td>\n",
       "      <td>0.732547</td>\n",
       "    </tr>\n",
       "    <tr>\n",
       "      <th>1335</th>\n",
       "      <td>Institute of Electrical and Electronics Engine...</td>\n",
       "      <td>3629764</td>\n",
       "      <td>3715418</td>\n",
       "      <td>2936163</td>\n",
       "      <td>0.976946</td>\n",
       "    </tr>\n",
       "  </tbody>\n",
       "</table>\n",
       "</div>"
      ],
      "text/plain": [
       "                                            member_name  n_works_scihub  \\\n",
       "861                                         Elsevier BV        14040758   \n",
       "3229                                    Springer Nature         7246978   \n",
       "4220                                    Wiley-Blackwell         6631012   \n",
       "1269                                 Informa UK Limited         2857071   \n",
       "1335  Institute of Electrical and Electronics Engine...         3629764   \n",
       "\n",
       "      n_works_prefix  n_works_member  coverage  \n",
       "861         15375364        14988181  0.913198  \n",
       "3229        11792386        10877314  0.614547  \n",
       "4220         8314081         8176553  0.797564  \n",
       "1269         3900188         3846781  0.732547  \n",
       "1335         3715418         2936163  0.976946  "
      ]
     },
     "execution_count": 10,
     "metadata": {},
     "output_type": "execute_result"
    }
   ],
   "source": [
    "# See publishers with the most crossref works\n",
    "member_refined_df.sort_values('n_works_prefix', ascending=False).head(5)"
   ]
  },
  {
   "cell_type": "code",
   "execution_count": 11,
   "metadata": {
    "collapsed": false,
    "deletable": true,
    "editable": true
   },
   "outputs": [
    {
     "data": {
      "text/plain": [
       "False    2572\n",
       "True     1702\n",
       "Name: n_works_scihub, dtype: int64"
      ]
     },
     "execution_count": 11,
     "metadata": {},
     "output_type": "execute_result"
    }
   ],
   "source": [
    "# Most publishers have no scihub coverage\n",
    "(member_refined_df.n_works_scihub > 0).value_counts()"
   ]
  },
  {
   "cell_type": "code",
   "execution_count": 12,
   "metadata": {
    "collapsed": false,
    "deletable": true,
    "editable": true
   },
   "outputs": [],
   "source": [
    "json_dump_kwargs = {\n",
    "    'ensure_ascii': False,\n",
    "    'indent': 2,\n",
    "}\n",
    "\n",
    "def df_to_datatables(df, path, double_precision=5, indent=2):\n",
    "    \"\"\"\n",
    "    Convert a pandas dataframe to a JSON object formatted for datatables input.\n",
    "    \"\"\"\n",
    "    dump_str = df.to_json(orient='split', double_precision=double_precision)\n",
    "    obj = json.loads(dump_str)\n",
    "    del obj['index']\n",
    "    obj = collections.OrderedDict(obj)\n",
    "    obj.move_to_end('data')\n",
    "    with open(path, 'w') as write_file:\n",
    "        json.dump(obj, write_file, **json_dump_kwargs)\n",
    "\n",
    "(member_refined_df\n",
    "    .drop(['n_works_member'], axis='columns')\n",
    "    .pipe(df_to_datatables, path='data/publisher-coverage.json')\n",
    ")"
   ]
  }
 ],
 "metadata": {
  "kernelspec": {
   "display_name": "Python [conda env:scihub]",
   "language": "python",
   "name": "conda-env-scihub-py"
  },
  "language_info": {
   "codemirror_mode": {
    "name": "ipython",
    "version": 3
   },
   "file_extension": ".py",
   "mimetype": "text/x-python",
   "name": "python",
   "nbconvert_exporter": "python",
   "pygments_lexer": "ipython3",
   "version": "3.6.0"
  }
 },
 "nbformat": 4,
 "nbformat_minor": 2
}
