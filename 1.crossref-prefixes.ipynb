{
 "cells": [
  {
   "cell_type": "markdown",
   "metadata": {
    "deletable": true,
    "editable": true
   },
   "source": [
    "# Extract Crossref member and DOI counts\n",
    "\n",
    "https://github.com/CrossRef/rest-api-doc/blob/master/rest_api.md\n",
    "\n",
    "Crossref response headers gave the following rate limits:\n",
    "\n",
    "```\n",
    "'X-Rate-Limit-Limit': '15', 'X-Rate-Limit-Interval': '1s'\n",
    "'X-Rate-Limit-Limit': '50', 'X-Rate-Limit-Interval': '1s'\n",
    "```"
   ]
  },
  {
   "cell_type": "code",
   "execution_count": 1,
   "metadata": {
    "collapsed": false,
    "deletable": true,
    "editable": true
   },
   "outputs": [],
   "source": [
    "import collections\n",
    "from functools import lru_cache\n",
    "\n",
    "import pandas\n",
    "import requests\n",
    "from habanero.crossref import Crossref\n",
    "from ratelimit import rate_limited"
   ]
  },
  {
   "cell_type": "code",
   "execution_count": 2,
   "metadata": {
    "collapsed": false,
    "deletable": true,
    "editable": true
   },
   "outputs": [],
   "source": [
    "cr = Crossref(base_url='https://api.crossref.org')"
   ]
  },
  {
   "cell_type": "code",
   "execution_count": 3,
   "metadata": {
    "collapsed": false,
    "deletable": true,
    "editable": true,
    "scrolled": true
   },
   "outputs": [
    {
     "data": {
      "text/plain": [
       "7622"
      ]
     },
     "execution_count": 3,
     "metadata": {},
     "output_type": "execute_result"
    }
   ],
   "source": [
    "limit = 500\n",
    "offset = 0\n",
    "total_members = cr.members(limit=1)['message']['total-results']\n",
    "items = list()\n",
    "while offset < total_members:\n",
    "    items.extend(cr.members(limit=limit, offset=offset)['message']['items'])\n",
    "    offset += limit\n",
    "\n",
    "# Number of members\n",
    "len(items)"
   ]
  },
  {
   "cell_type": "code",
   "execution_count": 4,
   "metadata": {
    "collapsed": false,
    "deletable": true,
    "editable": true
   },
   "outputs": [
    {
     "data": {
      "text/plain": [
       "8068"
      ]
     },
     "execution_count": 4,
     "metadata": {},
     "output_type": "execute_result"
    }
   ],
   "source": [
    "rows = list()\n",
    "for item in items:\n",
    "    member = collections.OrderedDict()\n",
    "    member['member_id'] = item['id']\n",
    "    member['member_name'] = item['primary-name']\n",
    "    member['location'] = item['location']\n",
    "    if item['counts']:\n",
    "        member['n_works_member'] = str(item['counts']['total-dois'])\n",
    "    prefix = item['prefix']\n",
    "    if not prefix:\n",
    "        continue\n",
    "    for prefix in prefix:\n",
    "        row = member.copy()\n",
    "        row['prefix_id'] = prefix['value']\n",
    "        row['prefix_name'] = prefix['name']\n",
    "        rows.append(row)\n",
    "prefix_df = pandas.DataFrame(rows)\n",
    "prefix_df = prefix_df.sort_values(['member_id', 'prefix_id'])\n",
    "\n",
    "# Number of prefixes\n",
    "len(prefix_df)"
   ]
  },
  {
   "cell_type": "code",
   "execution_count": 5,
   "metadata": {
    "collapsed": false,
    "deletable": true,
    "editable": true
   },
   "outputs": [
    {
     "data": {
      "text/html": [
       "<div>\n",
       "<table border=\"1\" class=\"dataframe\">\n",
       "  <thead>\n",
       "    <tr style=\"text-align: right;\">\n",
       "      <th></th>\n",
       "      <th>member_id</th>\n",
       "      <th>member_name</th>\n",
       "      <th>location</th>\n",
       "      <th>n_works_member</th>\n",
       "      <th>prefix_id</th>\n",
       "      <th>prefix_name</th>\n",
       "    </tr>\n",
       "  </thead>\n",
       "  <tbody>\n",
       "    <tr>\n",
       "      <th>6535</th>\n",
       "      <td>1</td>\n",
       "      <td>Annals of Family Medicine</td>\n",
       "      <td>11400 Tomahawk Creek Pkwy Leawood 66211-2672 U...</td>\n",
       "      <td>1777</td>\n",
       "      <td>10.1370</td>\n",
       "      <td>Annals of Family Medicine</td>\n",
       "    </tr>\n",
       "    <tr>\n",
       "      <th>347</th>\n",
       "      <td>2</td>\n",
       "      <td>American Association of Petroleum Geologists A...</td>\n",
       "      <td>1444 South Boulder Tulsa 74119 United States</td>\n",
       "      <td>22704</td>\n",
       "      <td>10.1306</td>\n",
       "      <td>AAPG/Datapages</td>\n",
       "    </tr>\n",
       "  </tbody>\n",
       "</table>\n",
       "</div>"
      ],
      "text/plain": [
       "      member_id                                        member_name  \\\n",
       "6535          1                          Annals of Family Medicine   \n",
       "347           2  American Association of Petroleum Geologists A...   \n",
       "\n",
       "                                               location n_works_member  \\\n",
       "6535  11400 Tomahawk Creek Pkwy Leawood 66211-2672 U...           1777   \n",
       "347        1444 South Boulder Tulsa 74119 United States          22704   \n",
       "\n",
       "     prefix_id                prefix_name  \n",
       "6535   10.1370  Annals of Family Medicine  \n",
       "347    10.1306             AAPG/Datapages  "
      ]
     },
     "execution_count": 5,
     "metadata": {},
     "output_type": "execute_result"
    }
   ],
   "source": [
    "prefix_df.head(2)"
   ]
  },
  {
   "cell_type": "code",
   "execution_count": 6,
   "metadata": {
    "collapsed": false,
    "deletable": true,
    "editable": true
   },
   "outputs": [],
   "source": [
    "@rate_limited(15)\n",
    "def api_query(prefix):\n",
    "    url = f'https://api.crossref.org/prefixes/{prefix}/works?rows=1'\n",
    "    response = requests.get(url)\n",
    "    result = response.json()\n",
    "    return result['message']['total-results']\n",
    "\n",
    "\n",
    "@lru_cache(100000)\n",
    "def get_prefix_doi_count(prefix):\n",
    "    return api_query(prefix)"
   ]
  },
  {
   "cell_type": "code",
   "execution_count": 7,
   "metadata": {
    "collapsed": false,
    "deletable": true,
    "editable": true
   },
   "outputs": [],
   "source": [
    "prefix_df['n_works_prefix'] = prefix_df.prefix_id.map(get_prefix_doi_count)"
   ]
  },
  {
   "cell_type": "code",
   "execution_count": 8,
   "metadata": {
    "collapsed": false,
    "deletable": true,
    "editable": true
   },
   "outputs": [
    {
     "data": {
      "text/html": [
       "<div>\n",
       "<table border=\"1\" class=\"dataframe\">\n",
       "  <thead>\n",
       "    <tr style=\"text-align: right;\">\n",
       "      <th></th>\n",
       "      <th>member_id</th>\n",
       "      <th>member_name</th>\n",
       "      <th>location</th>\n",
       "      <th>n_works_member</th>\n",
       "      <th>prefix_id</th>\n",
       "      <th>prefix_name</th>\n",
       "      <th>n_works_prefix</th>\n",
       "    </tr>\n",
       "  </thead>\n",
       "  <tbody>\n",
       "    <tr>\n",
       "      <th>6535</th>\n",
       "      <td>1</td>\n",
       "      <td>Annals of Family Medicine</td>\n",
       "      <td>11400 Tomahawk Creek Pkwy Leawood 66211-2672 U...</td>\n",
       "      <td>1777</td>\n",
       "      <td>10.1370</td>\n",
       "      <td>Annals of Family Medicine</td>\n",
       "      <td>1822</td>\n",
       "    </tr>\n",
       "    <tr>\n",
       "      <th>347</th>\n",
       "      <td>2</td>\n",
       "      <td>American Association of Petroleum Geologists A...</td>\n",
       "      <td>1444 South Boulder Tulsa 74119 United States</td>\n",
       "      <td>22704</td>\n",
       "      <td>10.1306</td>\n",
       "      <td>AAPG/Datapages</td>\n",
       "      <td>22560</td>\n",
       "    </tr>\n",
       "  </tbody>\n",
       "</table>\n",
       "</div>"
      ],
      "text/plain": [
       "      member_id                                        member_name  \\\n",
       "6535          1                          Annals of Family Medicine   \n",
       "347           2  American Association of Petroleum Geologists A...   \n",
       "\n",
       "                                               location n_works_member  \\\n",
       "6535  11400 Tomahawk Creek Pkwy Leawood 66211-2672 U...           1777   \n",
       "347        1444 South Boulder Tulsa 74119 United States          22704   \n",
       "\n",
       "     prefix_id                prefix_name  n_works_prefix  \n",
       "6535   10.1370  Annals of Family Medicine            1822  \n",
       "347    10.1306             AAPG/Datapages           22560  "
      ]
     },
     "execution_count": 8,
     "metadata": {},
     "output_type": "execute_result"
    }
   ],
   "source": [
    "prefix_df.head(2)"
   ]
  },
  {
   "cell_type": "code",
   "execution_count": 9,
   "metadata": {
    "collapsed": true,
    "deletable": true,
    "editable": true
   },
   "outputs": [],
   "source": [
    "prefix_df.to_csv('data/crossref-prefixes.tsv', sep='\\t', float_format='%.0g', index=False)"
   ]
  }
 ],
 "metadata": {
  "kernelspec": {
   "display_name": "Python [conda env:scihub]",
   "language": "python",
   "name": "conda-env-scihub-py"
  },
  "language_info": {
   "codemirror_mode": {
    "name": "ipython",
    "version": 3
   },
   "file_extension": ".py",
   "mimetype": "text/x-python",
   "name": "python",
   "nbconvert_exporter": "python",
   "pygments_lexer": "ipython3",
   "version": "3.6.0"
  }
 },
 "nbformat": 4,
 "nbformat_minor": 2
}
