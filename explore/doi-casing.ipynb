{
 "cells": [
  {
   "cell_type": "markdown",
   "metadata": {},
   "source": [
    "# Investigate DOI casing\n",
    "\n",
    "The DOI casing issues are described in [GH #9](https://github.com/greenelab/scihub/issues/9).\n",
    "\n",
    "View this notebook at commit [`be8cea48d5cb70a49adfd7aaede025ec9062727a`](https://github.com/greenelab/scihub/blob/be8cea48d5cb70a49adfd7aaede025ec9062727a/explore/doi-casing.ipynb) to see the **DOI casing issues before the fix**, which converted DOIs to lowercase.\n",
    "\n",
    "The current notebook was run using data from [`d2a62d63ec443aad7c1835c76178a3a04b750907`](https://github.com/greenelab/scihub/tree/d2a62d63ec443aad7c1835c76178a3a04b750907)."
   ]
  },
  {
   "cell_type": "code",
   "execution_count": 1,
   "metadata": {
    "collapsed": true
   },
   "outputs": [],
   "source": [
    "import os\n",
    "\n",
    "import pandas"
   ]
  },
  {
   "cell_type": "markdown",
   "metadata": {},
   "source": [
    "There are four possibilities for a DOI:\n",
    "\n",
    "1. contains no ASCII alphabet characters\n",
    "2. contains only lowercase ASCII alphabet characters\n",
    "3. contains only uppercase ASCII alphabet characters\n",
    "4. contains only mixed-case ASCII alphabet characters"
   ]
  },
  {
   "cell_type": "code",
   "execution_count": 2,
   "metadata": {
    "collapsed": true
   },
   "outputs": [],
   "source": [
    "def analyze_doi_casing(series):\n",
    "    lower = series.str.lower()\n",
    "    upper = series.str.upper()\n",
    "    total = len(series)\n",
    "\n",
    "    case_1 = sum(lower == upper)\n",
    "    case_2 = sum(series == lower) - case_1\n",
    "    case_3 = sum(series == upper) - case_1\n",
    "    case_4 = total - case_1 - case_2 - case_3\n",
    "\n",
    "    percents = {\n",
    "        'no letters': case_1 / total,\n",
    "        'all lowercase': case_2 / total,\n",
    "        'all uppercase': case_3 / total,\n",
    "        'mixed case': case_4 / total,\n",
    "    }\n",
    "\n",
    "    for key, value in list(percents.items()):\n",
    "        percents[key] = '{:.02%}'.format(value)\n",
    "    return percents"
   ]
  },
  {
   "cell_type": "markdown",
   "metadata": {},
   "source": [
    "## Crossref duplicated DOIs"
   ]
  },
  {
   "cell_type": "code",
   "execution_count": 3,
   "metadata": {
    "collapsed": true
   },
   "outputs": [],
   "source": [
    "# Read Crossref DOIs\n",
    "path = os.path.join('..', 'data', 'doi.tsv.xz')\n",
    "crossref_df = pandas.read_table(path, dtype={'issued': str})"
   ]
  },
  {
   "cell_type": "code",
   "execution_count": 4,
   "metadata": {},
   "outputs": [
    {
     "data": {
      "text/html": [
       "<div>\n",
       "<table border=\"1\" class=\"dataframe\">\n",
       "  <thead>\n",
       "    <tr style=\"text-align: right;\">\n",
       "      <th></th>\n",
       "      <th>doi</th>\n",
       "      <th>type</th>\n",
       "      <th>issued</th>\n",
       "      <th>in_scopus</th>\n",
       "      <th>in_scihub_dois</th>\n",
       "      <th>in_scihub_logs</th>\n",
       "      <th>in_libgen</th>\n",
       "    </tr>\n",
       "  </thead>\n",
       "  <tbody>\n",
       "  </tbody>\n",
       "</table>\n",
       "</div>"
      ],
      "text/plain": [
       "Empty DataFrame\n",
       "Columns: [doi, type, issued, in_scopus, in_scihub_dois, in_scihub_logs, in_libgen]\n",
       "Index: []"
      ]
     },
     "execution_count": 4,
     "metadata": {},
     "output_type": "execute_result"
    }
   ],
   "source": [
    "# Duplicated DOIs after lowercasing\n",
    "crossref_df[crossref_df.doi.str.lower().duplicated(keep=False)]"
   ]
  },
  {
   "cell_type": "code",
   "execution_count": 5,
   "metadata": {},
   "outputs": [
    {
     "data": {
      "text/plain": [
       "{'all lowercase': '71.59%',\n",
       " 'all uppercase': '0.00%',\n",
       " 'mixed case': '0.00%',\n",
       " 'no letters': '28.41%'}"
      ]
     },
     "execution_count": 5,
     "metadata": {},
     "output_type": "execute_result"
    }
   ],
   "source": [
    "analyze_doi_casing(crossref_df.doi)"
   ]
  },
  {
   "cell_type": "markdown",
   "metadata": {},
   "source": [
    "## LibGen duplicated DOIs"
   ]
  },
  {
   "cell_type": "code",
   "execution_count": 6,
   "metadata": {
    "collapsed": true
   },
   "outputs": [],
   "source": [
    "path = os.path.join('..', 'download', 'libgen', 'tsv', 'libgen-scimag-date-added-2017-04-07.tsv.xz')\n",
    "libgen_df = pandas.read_table(path)"
   ]
  },
  {
   "cell_type": "markdown",
   "metadata": {},
   "source": [
    "LibGen contains duplicates recordss for `10.1080/10584600600629711?` and `10.1300/J033v13n02?04`, but these are not due to casing differences"
   ]
  },
  {
   "cell_type": "code",
   "execution_count": 7,
   "metadata": {},
   "outputs": [
    {
     "data": {
      "text/html": [
       "<div>\n",
       "<table border=\"1\" class=\"dataframe\">\n",
       "  <thead>\n",
       "    <tr style=\"text-align: right;\">\n",
       "      <th></th>\n",
       "      <th>doi</th>\n",
       "      <th>libgen_date</th>\n",
       "    </tr>\n",
       "  </thead>\n",
       "  <tbody>\n",
       "  </tbody>\n",
       "</table>\n",
       "</div>"
      ],
      "text/plain": [
       "Empty DataFrame\n",
       "Columns: [doi, libgen_date]\n",
       "Index: []"
      ]
     },
     "execution_count": 7,
     "metadata": {},
     "output_type": "execute_result"
    }
   ],
   "source": [
    "libgen_df[libgen_df.doi.str.lower().duplicated(keep=False)]"
   ]
  },
  {
   "cell_type": "code",
   "execution_count": 8,
   "metadata": {},
   "outputs": [
    {
     "data": {
      "text/plain": [
       "{'all lowercase': '68.43%',\n",
       " 'all uppercase': '0.00%',\n",
       " 'mixed case': '0.00%',\n",
       " 'no letters': '31.57%'}"
      ]
     },
     "execution_count": 8,
     "metadata": {},
     "output_type": "execute_result"
    }
   ],
   "source": [
    "analyze_doi_casing(libgen_df.doi)"
   ]
  },
  {
   "cell_type": "markdown",
   "metadata": {},
   "source": [
    "## Sci-Hub Logs duplicated DOIs"
   ]
  },
  {
   "cell_type": "code",
   "execution_count": 9,
   "metadata": {
    "collapsed": true
   },
   "outputs": [],
   "source": [
    "path = os.path.join('..', 'download', 'scihub-logs', 'scihub-logs-summary_2015-09_2016-02.tsv.xz')\n",
    "scihub_logs_df = pandas.read_table(path)"
   ]
  },
  {
   "cell_type": "code",
   "execution_count": 10,
   "metadata": {},
   "outputs": [
    {
     "data": {
      "text/plain": [
       "{'all lowercase': '77.89%',\n",
       " 'all uppercase': '0.00%',\n",
       " 'mixed case': '0.00%',\n",
       " 'no letters': '22.11%'}"
      ]
     },
     "execution_count": 10,
     "metadata": {},
     "output_type": "execute_result"
    }
   ],
   "source": [
    "analyze_doi_casing(scihub_logs_df.doi)"
   ]
  },
  {
   "cell_type": "markdown",
   "metadata": {},
   "source": [
    "## Sci-Hub DOIs duplicated DOIs\n",
    "\n",
    "Sever duplication, but not primarily due to DOI casing"
   ]
  },
  {
   "cell_type": "code",
   "execution_count": 12,
   "metadata": {},
   "outputs": [],
   "source": [
    "path = os.path.join('..', 'download', 'scihub-dois', 'scihub-dois.tsv.xz')\n",
    "scihub_dois_df = pandas.read_table(path, names=['doi'])"
   ]
  },
  {
   "cell_type": "code",
   "execution_count": 13,
   "metadata": {},
   "outputs": [
    {
     "data": {
      "text/plain": [
       "0"
      ]
     },
     "execution_count": 13,
     "metadata": {},
     "output_type": "execute_result"
    }
   ],
   "source": [
    "# Duplicated DOIs after lowercasing\n",
    "dup_df = scihub_dois_df[scihub_dois_df.doi.str.lower().duplicated(keep=False)]\n",
    "len(dup_df)"
   ]
  },
  {
   "cell_type": "code",
   "execution_count": 14,
   "metadata": {},
   "outputs": [
    {
     "data": {
      "text/html": [
       "<div>\n",
       "<table border=\"1\" class=\"dataframe\">\n",
       "  <thead>\n",
       "    <tr style=\"text-align: right;\">\n",
       "      <th></th>\n",
       "      <th>doi</th>\n",
       "    </tr>\n",
       "  </thead>\n",
       "  <tbody>\n",
       "  </tbody>\n",
       "</table>\n",
       "</div>"
      ],
      "text/plain": [
       "Empty DataFrame\n",
       "Columns: [doi]\n",
       "Index: []"
      ]
     },
     "execution_count": 14,
     "metadata": {},
     "output_type": "execute_result"
    }
   ],
   "source": [
    "dup_df.head()"
   ]
  },
  {
   "cell_type": "code",
   "execution_count": 15,
   "metadata": {},
   "outputs": [
    {
     "data": {
      "text/plain": [
       "{'all lowercase': '67.33%',\n",
       " 'all uppercase': '0.00%',\n",
       " 'mixed case': '0.00%',\n",
       " 'no letters': '32.67%'}"
      ]
     },
     "execution_count": 15,
     "metadata": {},
     "output_type": "execute_result"
    }
   ],
   "source": [
    "analyze_doi_casing(scihub_dois_df.doi)"
   ]
  }
 ],
 "metadata": {
  "kernelspec": {
   "display_name": "Python [conda env:scihub]",
   "language": "python",
   "name": "conda-env-scihub-py"
  },
  "language_info": {
   "codemirror_mode": {
    "name": "ipython",
    "version": 3
   },
   "file_extension": ".py",
   "mimetype": "text/x-python",
   "name": "python",
   "nbconvert_exporter": "python",
   "pygments_lexer": "ipython3",
   "version": "3.6.0"
  }
 },
 "nbformat": 4,
 "nbformat_minor": 2
}
