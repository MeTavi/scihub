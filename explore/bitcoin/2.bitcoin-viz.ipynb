{
 "cells": [
  {
   "cell_type": "markdown",
   "metadata": {},
   "source": [
    "# Visualize bitcoin donations to Sci-Hub\n",
    "\n",
    "₿"
   ]
  },
  {
   "cell_type": "code",
   "execution_count": 1,
   "metadata": {
    "collapsed": true
   },
   "outputs": [],
   "source": [
    "# Load magrittr pipe\n",
    "`%>%` = dplyr::`%>%`"
   ]
  },
  {
   "cell_type": "code",
   "execution_count": 2,
   "metadata": {},
   "outputs": [
    {
     "name": "stderr",
     "output_type": "stream",
     "text": [
      "Parsed with column specification:\n",
      "cols(\n",
      "  period = col_character(),\n",
      "  n_transactions = col_integer(),\n",
      "  total_btc = col_double(),\n",
      "  total_usd = col_double()\n",
      ")\n"
     ]
    },
    {
     "data": {
      "text/html": [
       "<table>\n",
       "<thead><tr><th scope=col>period</th><th scope=col>n_transactions</th><th scope=col>total_btc</th><th scope=col>total_usd</th></tr></thead>\n",
       "<tbody>\n",
       "\t<tr><td>2013-07</td><td>3      </td><td>0.28   </td><td>22.83  </td></tr>\n",
       "\t<tr><td>2013-08</td><td>1      </td><td>0.20   </td><td>20.81  </td></tr>\n",
       "</tbody>\n",
       "</table>\n"
      ],
      "text/latex": [
       "\\begin{tabular}{r|llll}\n",
       " period & n\\_transactions & total\\_btc & total\\_usd\\\\\n",
       "\\hline\n",
       "\t 2013-07 & 3       & 0.28    & 22.83  \\\\\n",
       "\t 2013-08 & 1       & 0.20    & 20.81  \\\\\n",
       "\\end{tabular}\n"
      ],
      "text/markdown": [
       "\n",
       "period | n_transactions | total_btc | total_usd | \n",
       "|---|---|\n",
       "| 2013-07 | 3       | 0.28    | 22.83   | \n",
       "| 2013-08 | 1       | 0.20    | 20.81   | \n",
       "\n",
       "\n"
      ],
      "text/plain": [
       "  period  n_transactions total_btc total_usd\n",
       "1 2013-07 3              0.28      22.83    \n",
       "2 2013-08 1              0.20      20.81    "
      ]
     },
     "metadata": {},
     "output_type": "display_data"
    }
   ],
   "source": [
    "month_df = readr::read_tsv('monthly-deposit-summaries.tsv')\n",
    "head(month_df, 2)"
   ]
  },
  {
   "cell_type": "code",
   "execution_count": 3,
   "metadata": {},
   "outputs": [
    {
     "data": {},
     "metadata": {},
     "output_type": "display_data"
    },
    {
     "data": {
      "image/png": "[encoded data removed]",
      "text/plain": [
       "plot without title"
      ]
     },
     "metadata": {},
     "output_type": "display_data"
    }
   ],
   "source": [
    "# Set figure dimensions\n",
    "width = 5\n",
    "height = 3\n",
    "options(repr.plot.width=width, repr.plot.height=height)\n",
    "\n",
    "gg_usd = month_df %>%\n",
    "  dplyr::filter('2015-06' <= period, period < '2017-07') %>%\n",
    "  ggplot2::ggplot(ggplot2::aes(x = period, y = total_usd)) +\n",
    "  ggplot2::geom_col(fill = '#F7931A') +\n",
    "  ggplot2::scale_x_discrete(name = NULL) +\n",
    "  ggplot2::scale_y_continuous(\n",
    "    labels = scales::dollar, breaks = seq(0, 50000, 2000),\n",
    "    name='Bitcoin Donations in USD', expand = c(0.01, 0)) +\n",
    "  ggplot2::theme_bw() +\n",
    "  ggplot2::theme(\n",
    "    axis.text.x = ggplot2::element_text(angle=45, hjust=1, vjust=1),\n",
    "    panel.grid.major.x = ggplot2::element_blank()\n",
    "  )\n",
    "\n",
    "file.path('monthly-donations-usd.svg') %>%\n",
    "  ggplot2::ggsave(plot = gg_usd, width = width, height = height)\n",
    "\n",
    "gg_usd"
   ]
  },
  {
   "cell_type": "code",
   "execution_count": 4,
   "metadata": {},
   "outputs": [
    {
     "data": {},
     "metadata": {},
     "output_type": "display_data"
    },
    {
     "data": {
      "image/png": "[encoded data removed]",
      "text/plain": [
       "plot without title"
      ]
     },
     "metadata": {},
     "output_type": "display_data"
    }
   ],
   "source": [
    "# Set figure dimensions\n",
    "width = 5\n",
    "height = 3\n",
    "options(repr.plot.width=width, repr.plot.height=height)\n",
    "\n",
    "gg_count = month_df %>%\n",
    "  dplyr::filter('2015-06' <= period, period < '2017-07') %>%\n",
    "  ggplot2::ggplot(ggplot2::aes(x = period, y = n_transactions)) +\n",
    "  ggplot2::geom_col(fill = '#F7931A') +\n",
    "  ggplot2::scale_x_discrete(name = NULL) +\n",
    "  ggplot2::scale_y_continuous(name='Number of Bitcoin Donations', breaks = seq(0, 500, 20), expand = c(0.01, 0)) +\n",
    "  ggplot2::theme_bw() +\n",
    "  ggplot2::theme(\n",
    "    axis.text.x = ggplot2::element_text(angle=45, hjust=1, vjust=1),\n",
    "    panel.grid.major.x = ggplot2::element_blank()\n",
    "  )\n",
    "\n",
    "file.path('monthly-donations-count.svg') %>%\n",
    "  ggplot2::ggsave(plot = gg_count, width = width, height = height)\n",
    "\n",
    "gg_count"
   ]
  }
 ],
 "metadata": {
  "kernelspec": {
   "display_name": "R [conda env:scihub]",
   "language": "R",
   "name": "conda-env-scihub-r"
  },
  "language_info": {
   "codemirror_mode": "r",
   "file_extension": ".r",
   "mimetype": "text/x-r-source",
   "name": "R",
   "pygments_lexer": "r",
   "version": "3.3.2"
  }
 },
 "nbformat": 4,
 "nbformat_minor": 2
}
