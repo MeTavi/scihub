{
 "cells": [
  {
   "cell_type": "markdown",
   "metadata": {},
   "source": [
    "# Summarize SciHub visitor logs by DOI"
   ]
  },
  {
   "cell_type": "code",
   "execution_count": 1,
   "metadata": {},
   "outputs": [],
   "source": [
    "import pandas"
   ]
  },
  {
   "cell_type": "code",
   "execution_count": 2,
   "metadata": {},
   "outputs": [
    {
     "data": {
      "text/html": [
       "<div>\n",
       "<table border=\"1\" class=\"dataframe\">\n",
       "  <thead>\n",
       "    <tr style=\"text-align: right;\">\n",
       "      <th></th>\n",
       "      <th>date</th>\n",
       "      <th>doi</th>\n",
       "      <th>IP_code</th>\n",
       "      <th>country</th>\n",
       "      <th>city</th>\n",
       "      <th>latitude</th>\n",
       "      <th>longitude</th>\n",
       "      <th>day</th>\n",
       "      <th>month</th>\n",
       "    </tr>\n",
       "  </thead>\n",
       "  <tbody>\n",
       "    <tr>\n",
       "      <th>0</th>\n",
       "      <td>2015-09-01 00:00:00</td>\n",
       "      <td>10.1007/s10439-013-0829-z</td>\n",
       "      <td>56ed2b74a66a1</td>\n",
       "      <td>Colombia</td>\n",
       "      <td>Medellín</td>\n",
       "      <td>6.253041</td>\n",
       "      <td>-75.564574</td>\n",
       "      <td>2015-09-01</td>\n",
       "      <td>2015-09</td>\n",
       "    </tr>\n",
       "    <tr>\n",
       "      <th>1</th>\n",
       "      <td>2015-09-01 00:00:00</td>\n",
       "      <td>10.1016/s0894-7317(12)00840-1</td>\n",
       "      <td>56ed2b712d760</td>\n",
       "      <td>United States</td>\n",
       "      <td>Buffalo</td>\n",
       "      <td>42.940530</td>\n",
       "      <td>-78.869791</td>\n",
       "      <td>2015-09-01</td>\n",
       "      <td>2015-09</td>\n",
       "    </tr>\n",
       "    <tr>\n",
       "      <th>2</th>\n",
       "      <td>2015-09-01 00:00:00</td>\n",
       "      <td>10.1016/j.jmv.2014.04.008</td>\n",
       "      <td>56ed2b6e2d9ab</td>\n",
       "      <td>United States</td>\n",
       "      <td>New York</td>\n",
       "      <td>40.783060</td>\n",
       "      <td>-73.971249</td>\n",
       "      <td>2015-09-01</td>\n",
       "      <td>2015-09</td>\n",
       "    </tr>\n",
       "  </tbody>\n",
       "</table>\n",
       "</div>"
      ],
      "text/plain": [
       "                  date                            doi        IP_code  \\\n",
       "0  2015-09-01 00:00:00      10.1007/s10439-013-0829-z  56ed2b74a66a1   \n",
       "1  2015-09-01 00:00:00  10.1016/s0894-7317(12)00840-1  56ed2b712d760   \n",
       "2  2015-09-01 00:00:00      10.1016/j.jmv.2014.04.008  56ed2b6e2d9ab   \n",
       "\n",
       "         country      city   latitude  longitude         day    month  \n",
       "0       Colombia  Medellín   6.253041 -75.564574  2015-09-01  2015-09  \n",
       "1  United States   Buffalo  42.940530 -78.869791  2015-09-01  2015-09  \n",
       "2  United States  New York  40.783060 -73.971249  2015-09-01  2015-09  "
      ]
     },
     "execution_count": 2,
     "metadata": {},
     "output_type": "execute_result"
    }
   ],
   "source": [
    "log_df = pandas.read_table('scihub-logs_2015-09_2016-02.tsv.xz')\n",
    "log_df['day'] = log_df.date.str.slice(stop=10)\n",
    "log_df['month'] = log_df.date.str.slice(stop=7)\n",
    "log_df.head(3)"
   ]
  },
  {
   "cell_type": "code",
   "execution_count": 3,
   "metadata": {},
   "outputs": [
    {
     "data": {
      "text/plain": [
       "27819966"
      ]
     },
     "execution_count": 3,
     "metadata": {},
     "output_type": "execute_result"
    }
   ],
   "source": [
    "len(log_df)"
   ]
  },
  {
   "cell_type": "code",
   "execution_count": 4,
   "metadata": {},
   "outputs": [
    {
     "data": {
      "text/html": [
       "<div>\n",
       "<table border=\"1\" class=\"dataframe\">\n",
       "  <thead>\n",
       "    <tr style=\"text-align: right;\">\n",
       "      <th></th>\n",
       "      <th>doi</th>\n",
       "      <th>downloads</th>\n",
       "      <th>visitors</th>\n",
       "      <th>countries</th>\n",
       "      <th>days</th>\n",
       "      <th>months</th>\n",
       "    </tr>\n",
       "  </thead>\n",
       "  <tbody>\n",
       "    <tr>\n",
       "      <th>0</th>\n",
       "      <td>.1991.236</td>\n",
       "      <td>1</td>\n",
       "      <td>1</td>\n",
       "      <td>1</td>\n",
       "      <td>1</td>\n",
       "      <td>1</td>\n",
       "    </tr>\n",
       "    <tr>\n",
       "      <th>1</th>\n",
       "      <td>.blo.0000132404.30139.f2</td>\n",
       "      <td>1</td>\n",
       "      <td>1</td>\n",
       "      <td>1</td>\n",
       "      <td>1</td>\n",
       "      <td>1</td>\n",
       "    </tr>\n",
       "  </tbody>\n",
       "</table>\n",
       "</div>"
      ],
      "text/plain": [
       "                        doi  downloads  visitors  countries  days  months\n",
       "0                 .1991.236          1         1          1     1       1\n",
       "1  .blo.0000132404.30139.f2          1         1          1     1       1"
      ]
     },
     "execution_count": 4,
     "metadata": {},
     "output_type": "execute_result"
    }
   ],
   "source": [
    "function_mapper = {\n",
    "    'doi': 'count',\n",
    "    'IP_code': pandas.Series.nunique,\n",
    "    'country': pandas.Series.nunique,\n",
    "    'day': pandas.Series.nunique,\n",
    "    'month': pandas.Series.nunique,\n",
    "}\n",
    "\n",
    "renamer = {\n",
    "    'doi': 'downloads',\n",
    "    'IP_code': 'visitors',\n",
    "    'country': 'countries',\n",
    "    'day': 'days',\n",
    "    'month': 'months',\n",
    "}\n",
    "\n",
    "summary_df = (\n",
    "    log_df\n",
    "    .groupby('doi')\n",
    "    .aggregate(function_mapper)\n",
    "    .rename(columns=renamer)\n",
    "    .reset_index()\n",
    ")\n",
    "summary_df.head(2)"
   ]
  },
  {
   "cell_type": "code",
   "execution_count": 5,
   "metadata": {},
   "outputs": [
    {
     "data": {
      "text/plain": [
       "10648365"
      ]
     },
     "execution_count": 5,
     "metadata": {},
     "output_type": "execute_result"
    }
   ],
   "source": [
    "len(summary_df)"
   ]
  },
  {
   "cell_type": "code",
   "execution_count": 7,
   "metadata": {},
   "outputs": [],
   "source": [
    "summary_df.to_csv('./scihub-logs-summary_2015-09_2016-02.tsv.xz', sep='\\t', compression='xz', index=False)"
   ]
  }
 ],
 "metadata": {
  "kernelspec": {
   "display_name": "Python [conda env:scihub]",
   "language": "python",
   "name": "conda-env-scihub-py"
  },
  "language_info": {
   "codemirror_mode": {
    "name": "ipython",
    "version": 3
   },
   "file_extension": ".py",
   "mimetype": "text/x-python",
   "name": "python",
   "nbconvert_exporter": "python",
   "pygments_lexer": "ipython3",
   "version": "3.6.0"
  }
 },
 "nbformat": 4,
 "nbformat_minor": 2
}
