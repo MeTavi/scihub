{
 "cells": [
  {
   "cell_type": "markdown",
   "metadata": {},
   "source": [
    "# Download, extract, process, and combine [`scihub_data.zip`](https://doi.org/10.5061/dryad.q447c/1)\n",
    "\n",
    "Extracts Dataset 1 from:\n",
    "\n",
    "> John Bohannon, Alexandra Elbakyan (2016) [Data from: Who's downloading pirated papers? Everyone](https://doi.org/10.5061/dryad.q447c). _Dryad Digital Repository_. DOI: 10.5061/dryad.q447c"
   ]
  },
  {
   "cell_type": "code",
   "execution_count": 1,
   "metadata": {
    "collapsed": true
   },
   "outputs": [],
   "source": [
    "import csv\n",
    "import io\n",
    "import lzma\n",
    "import re\n",
    "import urllib.request\n",
    "import zipfile"
   ]
  },
  {
   "cell_type": "code",
   "execution_count": 2,
   "metadata": {
    "collapsed": true
   },
   "outputs": [],
   "source": [
    "# Download https://doi.org/10.5061/dryad.q447c/1\n",
    "url = 'http://datadryad.org/bitstream/handle/10255/dryad.114259/scihub_data.zip'\n",
    "urllib.request.urlretrieve(url, 'scihub_data.zip');"
   ]
  },
  {
   "cell_type": "code",
   "execution_count": 3,
   "metadata": {
    "collapsed": true
   },
   "outputs": [],
   "source": [
    "def process_row(row):\n",
    "    \"\"\"\n",
    "    Tidy a row.\n",
    "    \"\"\"\n",
    "    # Replace 'N/A' values with None\n",
    "    for key, value in list(row.items()):\n",
    "        if value == 'N/A':\n",
    "            row[key] = None\n",
    "\n",
    "    # Convert DOI to all lowercase. See https://git.io/v9GoT\n",
    "    row['doi'] = row['doi'].lower()\n",
    "\n",
    "    # Split coords into latitude and longitude\n",
    "    coords = row.pop('coords')\n",
    "    try:\n",
    "        row['latitude'], row['longitude'] = coords.split(',')\n",
    "    except Exception:\n",
    "        row['latitude'], row['longitude'] = None, None\n",
    "    return row\n",
    "\n",
    "def read_scihub_logs(path):\n",
    "    \"\"\"\n",
    "    Read scihub_data.zip from https://doi.org/10.5061/dryad.q447c/1.\n",
    "    \"\"\"\n",
    "    columns = 'date', 'doi', 'IP_code', 'country', 'city', 'coords'\n",
    "    with zipfile.ZipFile(path) as archive:\n",
    "        months = ['sep2015', 'oct2015', 'nov2015', 'dec2015', 'jan2016', 'feb2016']\n",
    "        for month in months:\n",
    "            path = f'scihub_data/{month}.tab'\n",
    "            print('Reading', path)\n",
    "            with archive.open(path) as read_file:\n",
    "                read_file = io.TextIOWrapper(read_file)\n",
    "                reader = csv.DictReader(read_file, delimiter='\\t', fieldnames=columns)\n",
    "                rows = map(process_row, reader)\n",
    "                yield from rows"
   ]
  },
  {
   "cell_type": "code",
   "execution_count": 4,
   "metadata": {},
   "outputs": [
    {
     "name": "stdout",
     "output_type": "stream",
     "text": [
      "Reading scihub_data/sep2015.tab\n",
      "Reading scihub_data/oct2015.tab\n",
      "Reading scihub_data/nov2015.tab\n",
      "Reading scihub_data/dec2015.tab\n",
      "Reading scihub_data/jan2016.tab\n",
      "Reading scihub_data/feb2016.tab\n",
      "CPU times: user 31min 33s, sys: 3.36 s, total: 31min 36s\n",
      "Wall time: 31min 50s\n"
     ]
    }
   ],
   "source": [
    "%%time\n",
    "columns = 'date', 'doi', 'IP_code', 'country', 'city', 'latitude', 'longitude'\n",
    "with lzma.open('scihub-logs_2015-09_2016-02.tsv.xz', 'wt') as write_file:\n",
    "    writer = csv.DictWriter(write_file, delimiter='\\t', fieldnames=columns)\n",
    "    writer.writeheader()\n",
    "    rows = read_scihub_logs('scihub_data.zip')\n",
    "    writer.writerows(rows)"
   ]
  }
 ],
 "metadata": {
  "kernelspec": {
   "display_name": "Python [conda env:scihub]",
   "language": "python",
   "name": "conda-env-scihub-py"
  },
  "language_info": {
   "codemirror_mode": {
    "name": "ipython",
    "version": 3
   },
   "file_extension": ".py",
   "mimetype": "text/x-python",
   "name": "python",
   "nbconvert_exporter": "python",
   "pygments_lexer": "ipython3",
   "version": "3.6.0"
  }
 },
 "nbformat": 4,
 "nbformat_minor": 2
}
