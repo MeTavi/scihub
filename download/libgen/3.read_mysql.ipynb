{
 "cells": [
  {
   "cell_type": "markdown",
   "metadata": {},
   "source": [
    "# Query and extract scimag MySQL table"
   ]
  },
  {
   "cell_type": "code",
   "execution_count": 1,
   "metadata": {},
   "outputs": [],
   "source": [
    "import csv\n",
    "import collections\n",
    "import json\n",
    "import lzma\n",
    "import os\n",
    "\n",
    "import tqdm\n",
    "import mysql.connector\n",
    "import pandas\n",
    "import numpy"
   ]
  },
  {
   "cell_type": "markdown",
   "metadata": {},
   "source": [
    "## Configuration"
   ]
  },
  {
   "cell_type": "code",
   "execution_count": 2,
   "metadata": {},
   "outputs": [
    {
     "data": {
      "text/plain": [
       "'2017-04-07'"
      ]
     },
     "execution_count": 2,
     "metadata": {},
     "output_type": "execute_result"
    }
   ],
   "source": [
    "with open('configuration.json') as read_file:\n",
    "    configuration = json.load(read_file)\n",
    "date = configuration['date']\n",
    "date"
   ]
  },
  {
   "cell_type": "code",
   "execution_count": 3,
   "metadata": {
    "collapsed": true
   },
   "outputs": [],
   "source": [
    "# Docs at https://dev.mysql.com/doc/connector-python/en/connector-python-example-connecting.html\n",
    "connection = mysql.connector.connect(\n",
    "    user='root',\n",
    "    password='',\n",
    "    host='localhost',\n",
    "    database='scimag',\n",
    "    port=3306,\n",
    "    charset='latin1',\n",
    ")"
   ]
  },
  {
   "cell_type": "markdown",
   "metadata": {},
   "source": [
    "## Total number of articles in LibGen scimag"
   ]
  },
  {
   "cell_type": "code",
   "execution_count": 4,
   "metadata": {},
   "outputs": [
    {
     "data": {
      "text/plain": [
       "64195945"
      ]
     },
     "execution_count": 4,
     "metadata": {},
     "output_type": "execute_result"
    }
   ],
   "source": [
    "query = '''\n",
    "SELECT COUNT(*) AS n_rows\n",
    "FROM scimag\n",
    "'''\n",
    "cursor = connection.cursor()\n",
    "cursor.execute(query)\n",
    "n_rows, = cursor.fetchone()\n",
    "n_rows"
   ]
  },
  {
   "cell_type": "markdown",
   "metadata": {},
   "source": [
    "## First rows of the scimag table"
   ]
  },
  {
   "cell_type": "code",
   "execution_count": 5,
   "metadata": {},
   "outputs": [
    {
     "data": {
      "text/html": [
       "<div>\n",
       "<table border=\"1\" class=\"dataframe\">\n",
       "  <thead>\n",
       "    <tr style=\"text-align: right;\">\n",
       "      <th></th>\n",
       "      <th>0</th>\n",
       "      <th>1</th>\n",
       "      <th>2</th>\n",
       "    </tr>\n",
       "  </thead>\n",
       "  <tbody>\n",
       "    <tr>\n",
       "      <th>ID</th>\n",
       "      <td>1</td>\n",
       "      <td>2</td>\n",
       "      <td>3</td>\n",
       "    </tr>\n",
       "    <tr>\n",
       "      <th>DOI</th>\n",
       "      <td>10.1002/(sici)(1997)5:1&lt;1::aid-nt1&gt;3.0.co;2-8</td>\n",
       "      <td>10.1002/(sici)(1997)5:1&lt;14::aid-nt2&gt;3.0.co;2-8</td>\n",
       "      <td>10.1002/(sici)(1997)5:1&lt;20::aid-nt3&gt;3.0.co;2-6</td>\n",
       "    </tr>\n",
       "    <tr>\n",
       "      <th>DOI2</th>\n",
       "      <td></td>\n",
       "      <td></td>\n",
       "      <td></td>\n",
       "    </tr>\n",
       "    <tr>\n",
       "      <th>Title</th>\n",
       "      <td>Detection of new spider toxins from a &lt;em&gt;Neph...</td>\n",
       "      <td>Identification by flow cytometry of Seiridin, ...</td>\n",
       "      <td>Evaluation of &lt;em&gt;Alternaria&lt;/em&gt; and its myco...</td>\n",
       "    </tr>\n",
       "    <tr>\n",
       "      <th>Author</th>\n",
       "      <td>Yasuhiro Itagaki; Tsuyoshi Fujita; Hideo Naoki...</td>\n",
       "      <td>Antonio Evidente; Anna Andolfi; Letizia D'Apic...</td>\n",
       "      <td>Ana María Dacero; Mariana Combina; Miriam Etch...</td>\n",
       "    </tr>\n",
       "    <tr>\n",
       "      <th>Year</th>\n",
       "      <td>1997</td>\n",
       "      <td>1997</td>\n",
       "      <td>1997</td>\n",
       "    </tr>\n",
       "    <tr>\n",
       "      <th>Month</th>\n",
       "      <td></td>\n",
       "      <td></td>\n",
       "      <td></td>\n",
       "    </tr>\n",
       "    <tr>\n",
       "      <th>Day</th>\n",
       "      <td></td>\n",
       "      <td></td>\n",
       "      <td></td>\n",
       "    </tr>\n",
       "    <tr>\n",
       "      <th>Volume</th>\n",
       "      <td>5</td>\n",
       "      <td>5</td>\n",
       "      <td>5</td>\n",
       "    </tr>\n",
       "    <tr>\n",
       "      <th>Issue</th>\n",
       "      <td>1</td>\n",
       "      <td>1</td>\n",
       "      <td>1</td>\n",
       "    </tr>\n",
       "    <tr>\n",
       "      <th>First_page</th>\n",
       "      <td>1</td>\n",
       "      <td>14</td>\n",
       "      <td>20</td>\n",
       "    </tr>\n",
       "    <tr>\n",
       "      <th>Last_page</th>\n",
       "      <td>13</td>\n",
       "      <td>19</td>\n",
       "      <td>23</td>\n",
       "    </tr>\n",
       "    <tr>\n",
       "      <th>Journal</th>\n",
       "      <td></td>\n",
       "      <td></td>\n",
       "      <td></td>\n",
       "    </tr>\n",
       "    <tr>\n",
       "      <th>ISBN</th>\n",
       "      <td></td>\n",
       "      <td></td>\n",
       "      <td></td>\n",
       "    </tr>\n",
       "    <tr>\n",
       "      <th>ISSNP</th>\n",
       "      <td>1056-9014</td>\n",
       "      <td>1056-9014</td>\n",
       "      <td>1056-9014</td>\n",
       "    </tr>\n",
       "    <tr>\n",
       "      <th>ISSNE</th>\n",
       "      <td>1522-7189</td>\n",
       "      <td>1522-7189</td>\n",
       "      <td>1522-7189</td>\n",
       "    </tr>\n",
       "    <tr>\n",
       "      <th>MD5</th>\n",
       "      <td>93b76bc6875ce7957eeec1247e7b83b9</td>\n",
       "      <td>f6010d09cae3a482bf0994b76a547618</td>\n",
       "      <td>aea916e402e6ea48ece3970bf2fd419f</td>\n",
       "    </tr>\n",
       "    <tr>\n",
       "      <th>Filesize</th>\n",
       "      <td>268853</td>\n",
       "      <td>92500</td>\n",
       "      <td>46761</td>\n",
       "    </tr>\n",
       "    <tr>\n",
       "      <th>TimeAdded</th>\n",
       "      <td>2014-08-09 04:56:11</td>\n",
       "      <td>2014-08-09 04:56:11</td>\n",
       "      <td>2014-08-09 04:56:11</td>\n",
       "    </tr>\n",
       "    <tr>\n",
       "      <th>JOURNALID</th>\n",
       "      <td>17891</td>\n",
       "      <td>17891</td>\n",
       "      <td>17891</td>\n",
       "    </tr>\n",
       "    <tr>\n",
       "      <th>AbstractURL</th>\n",
       "      <td></td>\n",
       "      <td></td>\n",
       "      <td></td>\n",
       "    </tr>\n",
       "    <tr>\n",
       "      <th>Attribute1</th>\n",
       "      <td></td>\n",
       "      <td></td>\n",
       "      <td></td>\n",
       "    </tr>\n",
       "    <tr>\n",
       "      <th>Attribute2</th>\n",
       "      <td></td>\n",
       "      <td></td>\n",
       "      <td></td>\n",
       "    </tr>\n",
       "    <tr>\n",
       "      <th>Attribute3</th>\n",
       "      <td></td>\n",
       "      <td></td>\n",
       "      <td></td>\n",
       "    </tr>\n",
       "    <tr>\n",
       "      <th>Attribute4</th>\n",
       "      <td></td>\n",
       "      <td></td>\n",
       "      <td></td>\n",
       "    </tr>\n",
       "    <tr>\n",
       "      <th>Attribute5</th>\n",
       "      <td></td>\n",
       "      <td></td>\n",
       "      <td></td>\n",
       "    </tr>\n",
       "    <tr>\n",
       "      <th>Attribute6</th>\n",
       "      <td></td>\n",
       "      <td></td>\n",
       "      <td></td>\n",
       "    </tr>\n",
       "    <tr>\n",
       "      <th>Attribute7</th>\n",
       "      <td></td>\n",
       "      <td></td>\n",
       "      <td></td>\n",
       "    </tr>\n",
       "    <tr>\n",
       "      <th>PubmedID</th>\n",
       "      <td></td>\n",
       "      <td></td>\n",
       "      <td></td>\n",
       "    </tr>\n",
       "    <tr>\n",
       "      <th>PMC</th>\n",
       "      <td></td>\n",
       "      <td></td>\n",
       "      <td></td>\n",
       "    </tr>\n",
       "    <tr>\n",
       "      <th>PII</th>\n",
       "      <td></td>\n",
       "      <td></td>\n",
       "      <td></td>\n",
       "    </tr>\n",
       "  </tbody>\n",
       "</table>\n",
       "</div>"
      ],
      "text/plain": [
       "                                                             0  \\\n",
       "ID                                                           1   \n",
       "DOI              10.1002/(sici)(1997)5:1<1::aid-nt1>3.0.co;2-8   \n",
       "DOI2                                                             \n",
       "Title        Detection of new spider toxins from a <em>Neph...   \n",
       "Author       Yasuhiro Itagaki; Tsuyoshi Fujita; Hideo Naoki...   \n",
       "Year                                                      1997   \n",
       "Month                                                            \n",
       "Day                                                              \n",
       "Volume                                                       5   \n",
       "Issue                                                        1   \n",
       "First_page                                                   1   \n",
       "Last_page                                                   13   \n",
       "Journal                                                          \n",
       "ISBN                                                             \n",
       "ISSNP                                                1056-9014   \n",
       "ISSNE                                                1522-7189   \n",
       "MD5                           93b76bc6875ce7957eeec1247e7b83b9   \n",
       "Filesize                                                268853   \n",
       "TimeAdded                                  2014-08-09 04:56:11   \n",
       "JOURNALID                                                17891   \n",
       "AbstractURL                                                      \n",
       "Attribute1                                                       \n",
       "Attribute2                                                       \n",
       "Attribute3                                                       \n",
       "Attribute4                                                       \n",
       "Attribute5                                                       \n",
       "Attribute6                                                       \n",
       "Attribute7                                                       \n",
       "PubmedID                                                         \n",
       "PMC                                                              \n",
       "PII                                                              \n",
       "\n",
       "                                                             1  \\\n",
       "ID                                                           2   \n",
       "DOI             10.1002/(sici)(1997)5:1<14::aid-nt2>3.0.co;2-8   \n",
       "DOI2                                                             \n",
       "Title        Identification by flow cytometry of Seiridin, ...   \n",
       "Author       Antonio Evidente; Anna Andolfi; Letizia D'Apic...   \n",
       "Year                                                      1997   \n",
       "Month                                                            \n",
       "Day                                                              \n",
       "Volume                                                       5   \n",
       "Issue                                                        1   \n",
       "First_page                                                  14   \n",
       "Last_page                                                   19   \n",
       "Journal                                                          \n",
       "ISBN                                                             \n",
       "ISSNP                                                1056-9014   \n",
       "ISSNE                                                1522-7189   \n",
       "MD5                           f6010d09cae3a482bf0994b76a547618   \n",
       "Filesize                                                 92500   \n",
       "TimeAdded                                  2014-08-09 04:56:11   \n",
       "JOURNALID                                                17891   \n",
       "AbstractURL                                                      \n",
       "Attribute1                                                       \n",
       "Attribute2                                                       \n",
       "Attribute3                                                       \n",
       "Attribute4                                                       \n",
       "Attribute5                                                       \n",
       "Attribute6                                                       \n",
       "Attribute7                                                       \n",
       "PubmedID                                                         \n",
       "PMC                                                              \n",
       "PII                                                              \n",
       "\n",
       "                                                             2  \n",
       "ID                                                           3  \n",
       "DOI             10.1002/(sici)(1997)5:1<20::aid-nt3>3.0.co;2-6  \n",
       "DOI2                                                            \n",
       "Title        Evaluation of <em>Alternaria</em> and its myco...  \n",
       "Author       Ana María Dacero; Mariana Combina; Miriam Etch...  \n",
       "Year                                                      1997  \n",
       "Month                                                           \n",
       "Day                                                             \n",
       "Volume                                                       5  \n",
       "Issue                                                        1  \n",
       "First_page                                                  20  \n",
       "Last_page                                                   23  \n",
       "Journal                                                         \n",
       "ISBN                                                            \n",
       "ISSNP                                                1056-9014  \n",
       "ISSNE                                                1522-7189  \n",
       "MD5                           aea916e402e6ea48ece3970bf2fd419f  \n",
       "Filesize                                                 46761  \n",
       "TimeAdded                                  2014-08-09 04:56:11  \n",
       "JOURNALID                                                17891  \n",
       "AbstractURL                                                     \n",
       "Attribute1                                                      \n",
       "Attribute2                                                      \n",
       "Attribute3                                                      \n",
       "Attribute4                                                      \n",
       "Attribute5                                                      \n",
       "Attribute6                                                      \n",
       "Attribute7                                                      \n",
       "PubmedID                                                        \n",
       "PMC                                                             \n",
       "PII                                                             "
      ]
     },
     "execution_count": 5,
     "metadata": {},
     "output_type": "execute_result"
    }
   ],
   "source": [
    "query = '''\n",
    "SELECT *\n",
    "FROM scimag\n",
    "LIMIT 3;\n",
    "'''\n",
    "head_df = pandas.read_sql(query, connection)\n",
    "head_df.transpose()"
   ]
  },
  {
   "cell_type": "markdown",
   "metadata": {},
   "source": [
    "## Export the scimag table to TSV"
   ]
  },
  {
   "cell_type": "code",
   "execution_count": 6,
   "metadata": {},
   "outputs": [],
   "source": [
    "def query_to_tsv(connection, query, path, total):\n",
    "    \"\"\"\n",
    "    Write the results of a query to a TSV file.\n",
    "    Returns the percent missing or blank in each field\n",
    "    Must pass the total number of rows determined from a previous query.\n",
    "    \n",
    "    Docs at https://dev.mysql.com/doc/connector-python/en/connector-python-example-cursor-select.html\n",
    "    \"\"\"\n",
    "    cursor = connection.cursor()\n",
    "    cursor.execute(query)\n",
    "    progress_bar = tqdm.tqdm_notebook(total=total)\n",
    "    with lzma.open(path, 'wt') as write_file:\n",
    "        writer = csv.writer(write_file, delimiter='\\t')\n",
    "        column_names = cursor.column_names\n",
    "        n_complete = numpy.zeros(len(column_names), dtype='uint64')\n",
    "        writer.writerow(column_names)\n",
    "        for row in cursor:\n",
    "            n_complete += numpy.array(list(map(bool, row)), dtype='uint64')\n",
    "            writer.writerow(row)\n",
    "            progress_bar.update()\n",
    "    cursor.close()\n",
    "    progress_bar.close()\n",
    "    columns = {\n",
    "        'column': column_names,\n",
    "        'complete': n_complete,\n",
    "        'percent_complete': n_complete / total,\n",
    "        'missing': total - n_complete,\n",
    "    }\n",
    "    missing_df = pandas.DataFrame(columns)\n",
    "    return missing_df"
   ]
  },
  {
   "cell_type": "code",
   "execution_count": 7,
   "metadata": {},
   "outputs": [
    {
     "name": "stderr",
     "output_type": "stream",
     "text": [
      "Widget Javascript not detected.  It may not be installed or enabled properly.\n"
     ]
    },
    {
     "data": {
      "application/vnd.jupyter.widget-view+json": {
       "model_id": "3c326b1a434c4f0daf18a09acbb293f6"
      }
     },
     "metadata": {},
     "output_type": "display_data"
    },
    {
     "name": "stdout",
     "output_type": "stream",
     "text": [
      "\n"
     ]
    }
   ],
   "source": [
    "query = '''\n",
    "SELECT *\n",
    "FROM scimag\n",
    "'''\n",
    "path = os.path.join('tsv', f'libgen-scimag-{date}.tsv.xz')\n",
    "missing_df = query_to_tsv(connection, query, path, n_rows)"
   ]
  },
  {
   "cell_type": "code",
   "execution_count": 8,
   "metadata": {},
   "outputs": [
    {
     "data": {
      "text/html": [
       "<div>\n",
       "<table border=\"1\" class=\"dataframe\">\n",
       "  <thead>\n",
       "    <tr style=\"text-align: right;\">\n",
       "      <th></th>\n",
       "      <th>column</th>\n",
       "      <th>complete</th>\n",
       "      <th>missing</th>\n",
       "      <th>percent_complete</th>\n",
       "    </tr>\n",
       "  </thead>\n",
       "  <tbody>\n",
       "    <tr>\n",
       "      <th>0</th>\n",
       "      <td>ID</td>\n",
       "      <td>64195945</td>\n",
       "      <td>0</td>\n",
       "      <td>1.000000</td>\n",
       "    </tr>\n",
       "    <tr>\n",
       "      <th>1</th>\n",
       "      <td>DOI</td>\n",
       "      <td>64195945</td>\n",
       "      <td>0</td>\n",
       "      <td>1.000000</td>\n",
       "    </tr>\n",
       "    <tr>\n",
       "      <th>2</th>\n",
       "      <td>DOI2</td>\n",
       "      <td>58136</td>\n",
       "      <td>64137809</td>\n",
       "      <td>0.000906</td>\n",
       "    </tr>\n",
       "    <tr>\n",
       "      <th>3</th>\n",
       "      <td>Title</td>\n",
       "      <td>60887585</td>\n",
       "      <td>3308360</td>\n",
       "      <td>0.948465</td>\n",
       "    </tr>\n",
       "    <tr>\n",
       "      <th>4</th>\n",
       "      <td>Author</td>\n",
       "      <td>54097174</td>\n",
       "      <td>10098771</td>\n",
       "      <td>0.842688</td>\n",
       "    </tr>\n",
       "  </tbody>\n",
       "</table>\n",
       "</div>"
      ],
      "text/plain": [
       "   column  complete   missing  percent_complete\n",
       "0      ID  64195945         0          1.000000\n",
       "1     DOI  64195945         0          1.000000\n",
       "2    DOI2     58136  64137809          0.000906\n",
       "3   Title  60887585   3308360          0.948465\n",
       "4  Author  54097174  10098771          0.842688"
      ]
     },
     "execution_count": 8,
     "metadata": {},
     "output_type": "execute_result"
    }
   ],
   "source": [
    "missing_df.head()"
   ]
  },
  {
   "cell_type": "code",
   "execution_count": 9,
   "metadata": {
    "collapsed": true
   },
   "outputs": [],
   "source": [
    "path = os.path.join('tsv', f'libgen-scimag-missing-{date}.tsv')\n",
    "missing_df.to_csv(path, sep='\\t', index=False, float_format='%.5g')"
   ]
  },
  {
   "cell_type": "code",
   "execution_count": 10,
   "metadata": {
    "collapsed": true
   },
   "outputs": [],
   "source": [
    "connection.close()"
   ]
  }
 ],
 "metadata": {
  "kernelspec": {
   "display_name": "Python [conda env:scihub]",
   "language": "python",
   "name": "conda-env-scihub-py"
  },
  "language_info": {
   "codemirror_mode": {
    "name": "ipython",
    "version": 3
   },
   "file_extension": ".py",
   "mimetype": "text/x-python",
   "name": "python",
   "nbconvert_exporter": "python",
   "pygments_lexer": "ipython3",
   "version": "3.6.0"
  }
 },
 "nbformat": 4,
 "nbformat_minor": 2
}
