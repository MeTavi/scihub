{
 "cells": [
  {
   "cell_type": "markdown",
   "metadata": {},
   "source": [
    "# Subset LibGen scimag TSV"
   ]
  },
  {
   "cell_type": "code",
   "execution_count": 1,
   "metadata": {},
   "outputs": [],
   "source": [
    "import csv\n",
    "import json\n",
    "import lzma\n",
    "import os\n",
    "\n",
    "import pandas\n",
    "import matplotlib.pyplot as plt"
   ]
  },
  {
   "cell_type": "code",
   "execution_count": 2,
   "metadata": {
    "collapsed": true
   },
   "outputs": [],
   "source": [
    "%matplotlib inline"
   ]
  },
  {
   "cell_type": "code",
   "execution_count": 3,
   "metadata": {},
   "outputs": [
    {
     "data": {
      "text/plain": [
       "'2017-04-07'"
      ]
     },
     "execution_count": 3,
     "metadata": {},
     "output_type": "execute_result"
    }
   ],
   "source": [
    "with open('configuration.json') as read_file:\n",
    "    configuration = json.load(read_file)\n",
    "date = configuration['date']\n",
    "date"
   ]
  },
  {
   "cell_type": "markdown",
   "metadata": {},
   "source": [
    "## Create a TSV with only DOI and date added columns"
   ]
  },
  {
   "cell_type": "code",
   "execution_count": 4,
   "metadata": {
    "collapsed": true
   },
   "outputs": [],
   "source": [
    "# Mapping of scimag column name to new column name\n",
    "columns = {\n",
    "    'DOI': 'doi',\n",
    "    'TimeAdded': 'libgen_date',\n",
    "}"
   ]
  },
  {
   "cell_type": "code",
   "execution_count": 5,
   "metadata": {
    "collapsed": true
   },
   "outputs": [],
   "source": [
    "read_path = os.path.join('tsv', f'libgen-scimag-{date}.tsv.xz')\n",
    "write_path = os.path.join('tsv', f'libgen-scimag-date-added-{date}.tsv.xz')"
   ]
  },
  {
   "cell_type": "code",
   "execution_count": 6,
   "metadata": {},
   "outputs": [],
   "source": [
    "with lzma.open(read_path, 'rt') as read_file, lzma.open(write_path, 'wt') as write_file:\n",
    "    reader = csv.DictReader(read_file, delimiter='\\t')\n",
    "    writer = csv.DictWriter(write_file,\n",
    "        delimiter='\\t', fieldnames=list(columns), extrasaction='ignore')\n",
    "    writer.writerow(columns)\n",
    "    writer.writerows(reader)"
   ]
  },
  {
   "cell_type": "markdown",
   "metadata": {},
   "source": [
    "## LibGen additions by month"
   ]
  },
  {
   "cell_type": "code",
   "execution_count": 12,
   "metadata": {},
   "outputs": [
    {
     "data": {
      "text/html": [
       "<div>\n",
       "<table border=\"1\" class=\"dataframe\">\n",
       "  <thead>\n",
       "    <tr style=\"text-align: right;\">\n",
       "      <th></th>\n",
       "      <th>doi</th>\n",
       "      <th>libgen_date</th>\n",
       "      <th>year_month</th>\n",
       "    </tr>\n",
       "  </thead>\n",
       "  <tbody>\n",
       "    <tr>\n",
       "      <th>0</th>\n",
       "      <td>10.1002/(sici)(1997)5:1&lt;1::aid-nt1&gt;3.0.co;2-8</td>\n",
       "      <td>2014-08-09 04:56:11</td>\n",
       "      <td>2014-08</td>\n",
       "    </tr>\n",
       "    <tr>\n",
       "      <th>1</th>\n",
       "      <td>10.1002/(sici)(1997)5:1&lt;14::aid-nt2&gt;3.0.co;2-8</td>\n",
       "      <td>2014-08-09 04:56:11</td>\n",
       "      <td>2014-08</td>\n",
       "    </tr>\n",
       "    <tr>\n",
       "      <th>2</th>\n",
       "      <td>10.1002/(sici)(1997)5:1&lt;20::aid-nt3&gt;3.0.co;2-6</td>\n",
       "      <td>2014-08-09 04:56:11</td>\n",
       "      <td>2014-08</td>\n",
       "    </tr>\n",
       "    <tr>\n",
       "      <th>3</th>\n",
       "      <td>10.1002/(sici)(1997)5:1&lt;24::aid-nt4&gt;3.0.co;2-#</td>\n",
       "      <td>2014-08-09 04:56:11</td>\n",
       "      <td>2014-08</td>\n",
       "    </tr>\n",
       "    <tr>\n",
       "      <th>4</th>\n",
       "      <td>10.1002/(sici)(1997)5:1&lt;31::aid-nt5&gt;3.0.co;2-x</td>\n",
       "      <td>2014-08-09 04:56:11</td>\n",
       "      <td>2014-08</td>\n",
       "    </tr>\n",
       "  </tbody>\n",
       "</table>\n",
       "</div>"
      ],
      "text/plain": [
       "                                              doi         libgen_date  \\\n",
       "0   10.1002/(sici)(1997)5:1<1::aid-nt1>3.0.co;2-8 2014-08-09 04:56:11   \n",
       "1  10.1002/(sici)(1997)5:1<14::aid-nt2>3.0.co;2-8 2014-08-09 04:56:11   \n",
       "2  10.1002/(sici)(1997)5:1<20::aid-nt3>3.0.co;2-6 2014-08-09 04:56:11   \n",
       "3  10.1002/(sici)(1997)5:1<24::aid-nt4>3.0.co;2-# 2014-08-09 04:56:11   \n",
       "4  10.1002/(sici)(1997)5:1<31::aid-nt5>3.0.co;2-x 2014-08-09 04:56:11   \n",
       "\n",
       "  year_month  \n",
       "0    2014-08  \n",
       "1    2014-08  \n",
       "2    2014-08  \n",
       "3    2014-08  \n",
       "4    2014-08  "
      ]
     },
     "execution_count": 12,
     "metadata": {},
     "output_type": "execute_result"
    }
   ],
   "source": [
    "libgen_date_df = pandas.read_table(write_path, parse_dates=['libgen_date'])\n",
    "libgen_date_df = libgen_date_df.dropna(subset=['libgen_date'])\n",
    "libgen_date_df['year_month'] = libgen_date_df.libgen_date.map(lambda x: f'{x.year:04d}-{x.month:02d}')\n",
    "libgen_date_df.head()"
   ]
  },
  {
   "cell_type": "code",
   "execution_count": 13,
   "metadata": {},
   "outputs": [
    {
     "data": {
      "text/html": [
       "<div>\n",
       "<table border=\"1\" class=\"dataframe\">\n",
       "  <thead>\n",
       "    <tr style=\"text-align: right;\">\n",
       "      <th></th>\n",
       "      <th>doi</th>\n",
       "      <th>libgen_date</th>\n",
       "      <th>year_month</th>\n",
       "    </tr>\n",
       "  </thead>\n",
       "  <tbody>\n",
       "    <tr>\n",
       "      <th>0</th>\n",
       "      <td>10.1002/(sici)(1997)5:1&lt;1::aid-nt1&gt;3.0.co;2-8</td>\n",
       "      <td>2014-08-09 04:56:11</td>\n",
       "      <td>2014-08</td>\n",
       "    </tr>\n",
       "    <tr>\n",
       "      <th>1</th>\n",
       "      <td>10.1002/(sici)(1997)5:1&lt;14::aid-nt2&gt;3.0.co;2-8</td>\n",
       "      <td>2014-08-09 04:56:11</td>\n",
       "      <td>2014-08</td>\n",
       "    </tr>\n",
       "    <tr>\n",
       "      <th>2</th>\n",
       "      <td>10.1002/(sici)(1997)5:1&lt;20::aid-nt3&gt;3.0.co;2-6</td>\n",
       "      <td>2014-08-09 04:56:11</td>\n",
       "      <td>2014-08</td>\n",
       "    </tr>\n",
       "  </tbody>\n",
       "</table>\n",
       "</div>"
      ],
      "text/plain": [
       "                                              doi         libgen_date  \\\n",
       "0   10.1002/(sici)(1997)5:1<1::aid-nt1>3.0.co;2-8 2014-08-09 04:56:11   \n",
       "1  10.1002/(sici)(1997)5:1<14::aid-nt2>3.0.co;2-8 2014-08-09 04:56:11   \n",
       "2  10.1002/(sici)(1997)5:1<20::aid-nt3>3.0.co;2-6 2014-08-09 04:56:11   \n",
       "\n",
       "  year_month  \n",
       "0    2014-08  \n",
       "1    2014-08  \n",
       "2    2014-08  "
      ]
     },
     "execution_count": 13,
     "metadata": {},
     "output_type": "execute_result"
    }
   ],
   "source": [
    "libgen_date_df.head(3)"
   ]
  },
  {
   "cell_type": "code",
   "execution_count": 15,
   "metadata": {},
   "outputs": [
    {
     "data": {
      "image/png": "[encoded data removed]",
      "text/plain": [
       "<matplotlib.figure.Figure at 0x7f49f6c8d1d0>"
      ]
     },
     "metadata": {},
     "output_type": "display_data"
    }
   ],
   "source": [
    "monthly_counts = libgen_date_df.groupby('year_month').doi.count()\n",
    "plt.rcParams[\"figure.figsize\"] = 10, 4\n",
    "axes = monthly_counts.plot(kind='bar')"
   ]
  }
 ],
 "metadata": {
  "kernelspec": {
   "display_name": "Python [conda env:scihub]",
   "language": "python",
   "name": "conda-env-scihub-py"
  },
  "language_info": {
   "codemirror_mode": {
    "name": "ipython",
    "version": 3
   },
   "file_extension": ".py",
   "mimetype": "text/x-python",
   "name": "python",
   "nbconvert_exporter": "python",
   "pygments_lexer": "ipython3",
   "version": "3.6.0"
  }
 },
 "nbformat": 4,
 "nbformat_minor": 2
}
