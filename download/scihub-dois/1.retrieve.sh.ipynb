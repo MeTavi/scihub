{
 "cells": [
  {
   "cell_type": "markdown",
   "metadata": {},
   "source": [
    "# Download & process list of DOIs in Sci-Hub\n",
    "\n",
    "https://twitter.com/Sci_Hub/status/843546352219017218\n",
    "\n",
    "Converts DOIs to lowercase as per https://git.io/v9GoT."
   ]
  },
  {
   "cell_type": "code",
   "execution_count": 1,
   "metadata": {},
   "outputs": [
    {
     "name": "stdout",
     "output_type": "stream",
     "text": [
      "--2017-04-27 14:22:39--  http://sci-hub.cc/downloads/doi.7z\n",
      "Resolving sci-hub.cc (sci-hub.cc)... 80.82.77.83\n",
      "Connecting to sci-hub.cc (sci-hub.cc)|80.82.77.83|:80... connected.\n",
      "HTTP request sent, awaiting response... 200 OK\n",
      "Length: 59305141 (57M) [application/x-7z-compressed]\n",
      "Server file no newer than local file ‘doi.7z’ -- not retrieving.\n",
      "\n"
     ]
    }
   ],
   "source": [
    "# Download DOI list from SCi-Hub\n",
    "! wget --timestamping --no-if-modified-since \\\n",
    "    http://sci-hub.cc/downloads/doi.7z"
   ]
  },
  {
   "cell_type": "code",
   "execution_count": 2,
   "metadata": {},
   "outputs": [
    {
     "name": "stdout",
     "output_type": "stream",
     "text": [
      "\n",
      "7-Zip [64] 16.02 : Copyright (c) 1999-2016 Igor Pavlov : 2016-05-21\n",
      "p7zip Version 16.02 (locale=en_US.UTF-8,Utf16=on,HugeFiles=on,64 bits,4 CPUs Intel(R) Core(TM) i5-6500 CPU @ 3.20GHz (506E3),ASM,AES-NI)\n",
      "\n",
      "Scanning the drive for archives:\n",
      "1 file, 59305141 bytes (57 MiB)\n",
      "\n",
      "Extracting archive: doi.7z\n",
      "--\n",
      "Path = doi.7z\n",
      "Type = 7z\n",
      "Physical Size = 59305141\n",
      "Headers Size = 117\n",
      "Method = LZMA:24\n",
      "Solid = -\n",
      "Blocks = 1\n",
      "\n",
      "Everything is Ok\n",
      "\n",
      "Size:       1572187992\n",
      "Compressed: 59305141\n"
     ]
    }
   ],
   "source": [
    "# Extract doi.7z\n",
    "! rm --force doi.log\n",
    "! 7z x -bd doi.7z"
   ]
  },
  {
   "cell_type": "code",
   "execution_count": 3,
   "metadata": {
    "collapsed": true
   },
   "outputs": [],
   "source": [
    "import csv\n",
    "import lzma\n",
    "import os"
   ]
  },
  {
   "cell_type": "code",
   "execution_count": 4,
   "metadata": {},
   "outputs": [
    {
     "data": {
      "text/plain": [
       "'62,782,034 distinct DOIs'"
      ]
     },
     "execution_count": 4,
     "metadata": {},
     "output_type": "execute_result"
    }
   ],
   "source": [
    "dois = set()\n",
    "with open('doi.log', encoding='cp1252') as read_file:\n",
    "    for line in read_file:\n",
    "        line = line.strip()\n",
    "        doi = line.lower()\n",
    "        dois.add(doi)\n",
    "\n",
    "dois = sorted(dois)\n",
    "f'{len(dois):,} distinct DOIs'"
   ]
  },
  {
   "cell_type": "code",
   "execution_count": 5,
   "metadata": {},
   "outputs": [],
   "source": [
    "with lzma.open('scihub-dois.tsv.xz', 'wt') as write_file:\n",
    "    for row in ['doi'] + dois:\n",
    "        write_file.write(row + '\\n')"
   ]
  },
  {
   "cell_type": "code",
   "execution_count": 6,
   "metadata": {
    "collapsed": true
   },
   "outputs": [],
   "source": [
    "if os.path.isfile('doi.log'):\n",
    "    os.remove('doi.log')"
   ]
  }
 ],
 "metadata": {
  "kernelspec": {
   "display_name": "Python [conda env:crossref]",
   "language": "python",
   "name": "conda-env-crossref-py"
  },
  "language_info": {
   "codemirror_mode": {
    "name": "ipython",
    "version": 3
   },
   "file_extension": ".py",
   "mimetype": "text/x-python",
   "name": "python",
   "nbconvert_exporter": "python",
   "pygments_lexer": "ipython3",
   "version": "3.6.0"
  }
 },
 "nbformat": 4,
 "nbformat_minor": 2
}
