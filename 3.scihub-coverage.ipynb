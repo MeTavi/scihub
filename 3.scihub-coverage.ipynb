{
 "cells": [
  {
   "cell_type": "markdown",
   "metadata": {},
   "source": [
    "# Compute Sci-Hub coverage of journals and publishers in Scopus\n",
    "\n",
    "See all Crossref API types at https://api.crossref.org/types."
   ]
  },
  {
   "cell_type": "code",
   "execution_count": 1,
   "metadata": {
    "collapsed": true
   },
   "outputs": [],
   "source": [
    "import collections\n",
    "import io\n",
    "import lzma\n",
    "import os\n",
    "\n",
    "import pandas\n",
    "import requests"
   ]
  },
  {
   "cell_type": "code",
   "execution_count": 2,
   "metadata": {
    "collapsed": true
   },
   "outputs": [],
   "source": [
    "cr_commit = '59b7db69534d82452883092852382f6374247fa2'\n",
    "jm_commit = 'f46aa0da3b71b48188e882986fadf639740dcdc6'"
   ]
  },
  {
   "cell_type": "markdown",
   "metadata": {},
   "source": [
    "## Read DOIs"
   ]
  },
  {
   "cell_type": "code",
   "execution_count": 3,
   "metadata": {},
   "outputs": [
    {
     "data": {
      "text/html": [
       "<div>\n",
       "<table border=\"1\" class=\"dataframe\">\n",
       "  <thead>\n",
       "    <tr style=\"text-align: right;\">\n",
       "      <th></th>\n",
       "      <th>scopus_id</th>\n",
       "      <th>doi</th>\n",
       "      <th>type</th>\n",
       "      <th>issued</th>\n",
       "      <th>in_scopus</th>\n",
       "      <th>in_scihub_dois</th>\n",
       "      <th>in_scihub_logs</th>\n",
       "      <th>in_libgen</th>\n",
       "    </tr>\n",
       "  </thead>\n",
       "  <tbody>\n",
       "    <tr>\n",
       "      <th>0</th>\n",
       "      <td>12001</td>\n",
       "      <td>10.1002/jeab.1</td>\n",
       "      <td>journal-article</td>\n",
       "      <td>2012-12-05</td>\n",
       "      <td>1</td>\n",
       "      <td>1</td>\n",
       "      <td>1</td>\n",
       "      <td>1</td>\n",
       "    </tr>\n",
       "    <tr>\n",
       "      <th>1</th>\n",
       "      <td>12001</td>\n",
       "      <td>10.1002/jeab.10</td>\n",
       "      <td>journal-article</td>\n",
       "      <td>2013-01-14</td>\n",
       "      <td>1</td>\n",
       "      <td>1</td>\n",
       "      <td>0</td>\n",
       "      <td>1</td>\n",
       "    </tr>\n",
       "    <tr>\n",
       "      <th>2</th>\n",
       "      <td>12001</td>\n",
       "      <td>10.1002/jeab.100</td>\n",
       "      <td>journal-article</td>\n",
       "      <td>2014-08-08</td>\n",
       "      <td>1</td>\n",
       "      <td>1</td>\n",
       "      <td>1</td>\n",
       "      <td>1</td>\n",
       "    </tr>\n",
       "  </tbody>\n",
       "</table>\n",
       "</div>"
      ],
      "text/plain": [
       "   scopus_id               doi             type      issued  in_scopus  \\\n",
       "0      12001    10.1002/jeab.1  journal-article  2012-12-05          1   \n",
       "1      12001   10.1002/jeab.10  journal-article  2013-01-14          1   \n",
       "2      12001  10.1002/jeab.100  journal-article  2014-08-08          1   \n",
       "\n",
       "   in_scihub_dois  in_scihub_logs  in_libgen  \n",
       "0               1               1          1  \n",
       "1               1               0          1  \n",
       "2               1               1          1  "
      ]
     },
     "execution_count": 3,
     "metadata": {},
     "output_type": "execute_result"
    }
   ],
   "source": [
    "# Read catalog of Crossref DOIs\n",
    "path = os.path.join('data', 'doi.tsv.xz')\n",
    "doi_df = pandas.read_table(path, dtype={'issued': str})\n",
    "\n",
    "# Map DOIs to scopus titles\n",
    "path = os.path.join('data', 'scopus-title-to-doi-map.tsv.xz')\n",
    "doi_df = (\n",
    "    pandas.read_table(path)\n",
    "    .merge(doi_df)\n",
    ")\n",
    "\n",
    "doi_df.head(3)"
   ]
  },
  {
   "cell_type": "markdown",
   "metadata": {},
   "source": [
    "## Read Scopus title metadata"
   ]
  },
  {
   "cell_type": "code",
   "execution_count": 4,
   "metadata": {
    "collapsed": true
   },
   "outputs": [],
   "source": [
    "# Read Scopus title names\n",
    "url = f'https://github.com/dhimmel/journalmetrics/raw/{jm_commit}/data/titles.tsv'\n",
    "journal_df = pandas.read_table(url)\n",
    "\n",
    "# Read Scopus title attributes\n",
    "url = f'https://github.com/dhimmel/journalmetrics/raw/{jm_commit}/data/title-attributes.tsv'\n",
    "attrib_df = pandas.read_table(url)"
   ]
  },
  {
   "cell_type": "markdown",
   "metadata": {},
   "source": [
    "## Compute journal coverage by type"
   ]
  },
  {
   "cell_type": "code",
   "execution_count": 5,
   "metadata": {},
   "outputs": [],
   "source": [
    "def compute_coverage(df):\n",
    "    row = collections.OrderedDict()\n",
    "    row['scihub'] = sum(df.in_scihub_dois)\n",
    "    row['crossref'] = len(df)\n",
    "    row['coverage'] = df.in_scihub_dois.mean()\n",
    "    return row\n",
    "\n",
    "results = doi_df.groupby(['scopus_id']).apply(compute_coverage)\n",
    "journal_coverage_df = pandas.DataFrame(list(results), index=results.index).reset_index()\n",
    "journal_coverage_df = journal_df.merge(journal_coverage_df)"
   ]
  },
  {
   "cell_type": "code",
   "execution_count": 6,
   "metadata": {},
   "outputs": [
    {
     "data": {
      "text/html": [
       "<div>\n",
       "<table border=\"1\" class=\"dataframe\">\n",
       "  <thead>\n",
       "    <tr style=\"text-align: right;\">\n",
       "      <th></th>\n",
       "      <th>scopus_id</th>\n",
       "      <th>title_name</th>\n",
       "      <th>scihub</th>\n",
       "      <th>crossref</th>\n",
       "      <th>coverage</th>\n",
       "    </tr>\n",
       "  </thead>\n",
       "  <tbody>\n",
       "    <tr>\n",
       "      <th>2435</th>\n",
       "      <td>16590</td>\n",
       "      <td>The Lancet</td>\n",
       "      <td>86681</td>\n",
       "      <td>458580</td>\n",
       "      <td>0.189020</td>\n",
       "    </tr>\n",
       "    <tr>\n",
       "      <th>4925</th>\n",
       "      <td>21206</td>\n",
       "      <td>Nature</td>\n",
       "      <td>384901</td>\n",
       "      <td>399273</td>\n",
       "      <td>0.964005</td>\n",
       "    </tr>\n",
       "    <tr>\n",
       "      <th>11929</th>\n",
       "      <td>120017</td>\n",
       "      <td>BMJ (Clinical research ed.)</td>\n",
       "      <td>15186</td>\n",
       "      <td>392277</td>\n",
       "      <td>0.038712</td>\n",
       "    </tr>\n",
       "    <tr>\n",
       "      <th>7308</th>\n",
       "      <td>25674</td>\n",
       "      <td>Lecture Notes in Computer Science</td>\n",
       "      <td>101248</td>\n",
       "      <td>356323</td>\n",
       "      <td>0.284147</td>\n",
       "    </tr>\n",
       "  </tbody>\n",
       "</table>\n",
       "</div>"
      ],
      "text/plain": [
       "       scopus_id                         title_name  scihub  crossref  \\\n",
       "2435       16590                         The Lancet   86681    458580   \n",
       "4925       21206                             Nature  384901    399273   \n",
       "11929     120017        BMJ (Clinical research ed.)   15186    392277   \n",
       "7308       25674  Lecture Notes in Computer Science  101248    356323   \n",
       "\n",
       "       coverage  \n",
       "2435   0.189020  \n",
       "4925   0.964005  \n",
       "11929  0.038712  \n",
       "7308   0.284147  "
      ]
     },
     "execution_count": 6,
     "metadata": {},
     "output_type": "execute_result"
    }
   ],
   "source": [
    "journal_coverage_df.sort_values('crossref', ascending=False).head(4)"
   ]
  },
  {
   "cell_type": "markdown",
   "metadata": {},
   "source": [
    "## Compute publisher coverage by type"
   ]
  },
  {
   "cell_type": "code",
   "execution_count": 7,
   "metadata": {
    "collapsed": true
   },
   "outputs": [],
   "source": [
    "def compute_coverage(df):\n",
    "    row = collections.OrderedDict()\n",
    "    row['scihub'] = sum(df.scihub)\n",
    "    row['crossref'] = sum(df.crossref)\n",
    "    row['coverage'] = row['scihub'] / row['crossref']\n",
    "    return row\n",
    "\n",
    "results = (journal_coverage_df\n",
    "    .merge(attrib_df)\n",
    "    .groupby(['main_publisher'])\n",
    "    .apply(compute_coverage)\n",
    ")\n",
    "publisher_coverage_df = pandas.DataFrame(list(results), index=results.index).reset_index()"
   ]
  },
  {
   "cell_type": "code",
   "execution_count": 8,
   "metadata": {},
   "outputs": [
    {
     "data": {
      "text/html": [
       "<div>\n",
       "<table border=\"1\" class=\"dataframe\">\n",
       "  <thead>\n",
       "    <tr style=\"text-align: right;\">\n",
       "      <th></th>\n",
       "      <th>main_publisher</th>\n",
       "      <th>scihub</th>\n",
       "      <th>crossref</th>\n",
       "      <th>coverage</th>\n",
       "    </tr>\n",
       "  </thead>\n",
       "  <tbody>\n",
       "    <tr>\n",
       "      <th>1406</th>\n",
       "      <td>Elsevier</td>\n",
       "      <td>11716721</td>\n",
       "      <td>13185971</td>\n",
       "      <td>0.888575</td>\n",
       "    </tr>\n",
       "    <tr>\n",
       "      <th>4032</th>\n",
       "      <td>Springer Nature</td>\n",
       "      <td>5369348</td>\n",
       "      <td>6072665</td>\n",
       "      <td>0.884183</td>\n",
       "    </tr>\n",
       "    <tr>\n",
       "      <th>4779</th>\n",
       "      <td>Wiley-Blackwell</td>\n",
       "      <td>4593645</td>\n",
       "      <td>4881984</td>\n",
       "      <td>0.940938</td>\n",
       "    </tr>\n",
       "    <tr>\n",
       "      <th>4790</th>\n",
       "      <td>Wolters Kluwer Health</td>\n",
       "      <td>1295925</td>\n",
       "      <td>1878614</td>\n",
       "      <td>0.689830</td>\n",
       "    </tr>\n",
       "  </tbody>\n",
       "</table>\n",
       "</div>"
      ],
      "text/plain": [
       "             main_publisher    scihub  crossref  coverage\n",
       "1406               Elsevier  11716721  13185971  0.888575\n",
       "4032        Springer Nature   5369348   6072665  0.884183\n",
       "4779        Wiley-Blackwell   4593645   4881984  0.940938\n",
       "4790  Wolters Kluwer Health   1295925   1878614  0.689830"
      ]
     },
     "execution_count": 8,
     "metadata": {},
     "output_type": "execute_result"
    }
   ],
   "source": [
    "publisher_coverage_df.sort_values('crossref', ascending=False).head(4)"
   ]
  },
  {
   "cell_type": "markdown",
   "metadata": {},
   "source": [
    "## Export datasets"
   ]
  },
  {
   "cell_type": "code",
   "execution_count": 9,
   "metadata": {
    "collapsed": true
   },
   "outputs": [],
   "source": [
    "path = os.path.join('data', 'journal-coverage.tsv')\n",
    "journal_coverage_df.to_csv(path, index=False, sep='\\t', float_format='%.5g')\n",
    "\n",
    "path = os.path.join('data', 'publisher-coverage.tsv')\n",
    "publisher_coverage_df.to_csv(path, index=False, sep='\\t', float_format='%.5g')"
   ]
  }
 ],
 "metadata": {
  "kernelspec": {
   "display_name": "Python [conda env:crossref]",
   "language": "python",
   "name": "conda-env-crossref-py"
  },
  "language_info": {
   "codemirror_mode": {
    "name": "ipython",
    "version": 3
   },
   "file_extension": ".py",
   "mimetype": "text/x-python",
   "name": "python",
   "nbconvert_exporter": "python",
   "pygments_lexer": "ipython3",
   "version": "3.6.0"
  }
 },
 "nbformat": 4,
 "nbformat_minor": 2
}
