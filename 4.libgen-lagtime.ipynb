{
 "cells": [
  {
   "cell_type": "markdown",
   "metadata": {},
   "source": [
    "# Lag time between work publication and LibGen upload"
   ]
  },
  {
   "cell_type": "code",
   "execution_count": 1,
   "metadata": {
    "collapsed": true
   },
   "outputs": [],
   "source": [
    "import os\n",
    "\n",
    "import numpy\n",
    "import pandas\n",
    "import seaborn\n",
    "\n",
    "%matplotlib inline"
   ]
  },
  {
   "cell_type": "code",
   "execution_count": 2,
   "metadata": {
    "collapsed": true
   },
   "outputs": [],
   "source": [
    "recent = 2010"
   ]
  },
  {
   "cell_type": "code",
   "execution_count": 3,
   "metadata": {},
   "outputs": [
    {
     "data": {
      "text/html": [
       "<div>\n",
       "<table border=\"1\" class=\"dataframe\">\n",
       "  <thead>\n",
       "    <tr style=\"text-align: right;\">\n",
       "      <th></th>\n",
       "      <th>doi</th>\n",
       "      <th>type</th>\n",
       "      <th>issued</th>\n",
       "      <th>in_scopus</th>\n",
       "      <th>in_scihub_dois</th>\n",
       "      <th>in_scihub_logs</th>\n",
       "      <th>in_libgen</th>\n",
       "    </tr>\n",
       "  </thead>\n",
       "  <tbody>\n",
       "    <tr>\n",
       "      <th>0</th>\n",
       "      <td>10.1001/.387</td>\n",
       "      <td>journal-article</td>\n",
       "      <td>2006-02-27</td>\n",
       "      <td>1</td>\n",
       "      <td>0</td>\n",
       "      <td>0</td>\n",
       "      <td>0</td>\n",
       "    </tr>\n",
       "    <tr>\n",
       "      <th>1</th>\n",
       "      <td>10.1001/.389</td>\n",
       "      <td>journal-article</td>\n",
       "      <td>2006-02-27</td>\n",
       "      <td>1</td>\n",
       "      <td>0</td>\n",
       "      <td>0</td>\n",
       "      <td>0</td>\n",
       "    </tr>\n",
       "    <tr>\n",
       "      <th>2</th>\n",
       "      <td>10.1001/.391</td>\n",
       "      <td>journal-article</td>\n",
       "      <td>2006-02-27</td>\n",
       "      <td>1</td>\n",
       "      <td>0</td>\n",
       "      <td>0</td>\n",
       "      <td>0</td>\n",
       "    </tr>\n",
       "  </tbody>\n",
       "</table>\n",
       "</div>"
      ],
      "text/plain": [
       "            doi             type     issued  in_scopus  in_scihub_dois  \\\n",
       "0  10.1001/.387  journal-article 2006-02-27          1               0   \n",
       "1  10.1001/.389  journal-article 2006-02-27          1               0   \n",
       "2  10.1001/.391  journal-article 2006-02-27          1               0   \n",
       "\n",
       "   in_scihub_logs  in_libgen  \n",
       "0               0          0  \n",
       "1               0          0  \n",
       "2               0          0  "
      ]
     },
     "execution_count": 3,
     "metadata": {},
     "output_type": "execute_result"
    }
   ],
   "source": [
    "# Read Crossref DOIs\n",
    "path = os.path.join('data', 'doi.tsv.xz')\n",
    "doi_df = pandas.read_table(path, dtype={'issued': str})\n",
    "\n",
    "# Convert issued column to datetimes\n",
    "# 2008-12-01 gets converted to 2008-12-01\n",
    "# 1981 gets converted to 1981-01-01\n",
    "# 1991-07 gets converted to 1991-07-01\n",
    "# nan gets converted to NaT\n",
    "# ValueErrors (e.g. if day is out of range for month) return NaT\n",
    "doi_df.issued = pandas.to_datetime(doi_df.issued, errors='coerce')\n",
    "\n",
    "# Remove DOI if issued date is missing\n",
    "doi_df = doi_df.dropna(subset=['issued'])\n",
    "\n",
    "# Remove DOI if issued date exceeds the date the Crossref\n",
    "# API queries were performed, since these works are future dated\n",
    "doi_df[doi_df.issued <= pandas.to_datetime('2017-03-21')]\n",
    "\n",
    "# Remove DOI if issued date is the first of the year as\n",
    "# these dates are likely precise to the year only\n",
    "doi_df = doi_df[doi_df.issued.dt.dayofyear != 1]\n",
    "\n",
    "doi_df.head(3)"
   ]
  },
  {
   "cell_type": "code",
   "execution_count": 4,
   "metadata": {},
   "outputs": [
    {
     "data": {
      "text/plain": [
       "54386121"
      ]
     },
     "execution_count": 4,
     "metadata": {},
     "output_type": "execute_result"
    }
   ],
   "source": [
    "len(doi_df)"
   ]
  },
  {
   "cell_type": "code",
   "execution_count": 5,
   "metadata": {},
   "outputs": [
    {
     "data": {
      "image/png": "[encoded data removed]",
      "text/plain": [
       "<matplotlib.figure.Figure at 0x7f0aa8dd2588>"
      ]
     },
     "metadata": {},
     "output_type": "display_data"
    }
   ],
   "source": [
    "# Plot day of the year issued for Crossref works\n",
    "recent_df = doi_df[doi_df.issued.dt.year >= recent]\n",
    "axes = seaborn.distplot(recent_df.issued.dt.dayofyear, bins=numpy.arange(365) + 1, kde=False)"
   ]
  },
  {
   "cell_type": "code",
   "execution_count": 6,
   "metadata": {},
   "outputs": [
    {
     "data": {
      "text/html": [
       "<div>\n",
       "<table border=\"1\" class=\"dataframe\">\n",
       "  <thead>\n",
       "    <tr style=\"text-align: right;\">\n",
       "      <th></th>\n",
       "      <th>doi</th>\n",
       "      <th>libgen_date</th>\n",
       "    </tr>\n",
       "  </thead>\n",
       "  <tbody>\n",
       "    <tr>\n",
       "      <th>0</th>\n",
       "      <td>10.1002/(sici)(1997)5:1&lt;1::aid-nt1&gt;3.0.co;2-8</td>\n",
       "      <td>2014-08-09 04:56:11</td>\n",
       "    </tr>\n",
       "    <tr>\n",
       "      <th>1</th>\n",
       "      <td>10.1002/(sici)(1997)5:1&lt;14::aid-nt2&gt;3.0.co;2-8</td>\n",
       "      <td>2014-08-09 04:56:11</td>\n",
       "    </tr>\n",
       "  </tbody>\n",
       "</table>\n",
       "</div>"
      ],
      "text/plain": [
       "                                              doi         libgen_date\n",
       "0   10.1002/(sici)(1997)5:1<1::aid-nt1>3.0.co;2-8 2014-08-09 04:56:11\n",
       "1  10.1002/(sici)(1997)5:1<14::aid-nt2>3.0.co;2-8 2014-08-09 04:56:11"
      ]
     },
     "execution_count": 6,
     "metadata": {},
     "output_type": "execute_result"
    }
   ],
   "source": [
    "# Read LibGen scimag issued dates\n",
    "path = os.path.join('download', 'libgen', 'tsv', 'libgen-scimag-date-added-2017-04-07.tsv.xz')\n",
    "libgen_df = pandas.read_table(path, parse_dates=['libgen_date'])\n",
    "libgen_df.head(2)"
   ]
  },
  {
   "cell_type": "code",
   "execution_count": 7,
   "metadata": {
    "scrolled": true
   },
   "outputs": [
    {
     "data": {
      "text/html": [
       "<div>\n",
       "<table border=\"1\" class=\"dataframe\">\n",
       "  <thead>\n",
       "    <tr style=\"text-align: right;\">\n",
       "      <th></th>\n",
       "      <th>doi</th>\n",
       "      <th>issued</th>\n",
       "      <th>libgen_date</th>\n",
       "    </tr>\n",
       "  </thead>\n",
       "  <tbody>\n",
       "    <tr>\n",
       "      <th>0</th>\n",
       "      <td>10.1001/.387</td>\n",
       "      <td>2006-02-27</td>\n",
       "      <td>NaT</td>\n",
       "    </tr>\n",
       "    <tr>\n",
       "      <th>1</th>\n",
       "      <td>10.1001/.389</td>\n",
       "      <td>2006-02-27</td>\n",
       "      <td>NaT</td>\n",
       "    </tr>\n",
       "    <tr>\n",
       "      <th>2</th>\n",
       "      <td>10.1001/.391</td>\n",
       "      <td>2006-02-27</td>\n",
       "      <td>NaT</td>\n",
       "    </tr>\n",
       "  </tbody>\n",
       "</table>\n",
       "</div>"
      ],
      "text/plain": [
       "            doi     issued libgen_date\n",
       "0  10.1001/.387 2006-02-27         NaT\n",
       "1  10.1001/.389 2006-02-27         NaT\n",
       "2  10.1001/.391 2006-02-27         NaT"
      ]
     },
     "execution_count": 7,
     "metadata": {},
     "output_type": "execute_result"
    }
   ],
   "source": [
    "# Add libgen dates\n",
    "merged_df = doi_df.merge(libgen_df, how='left')\n",
    "\n",
    "# Remove the small number of LibGen records that are missing their date added\n",
    "merged_df = merged_df[(merged_df.in_libgen == 0) | merged_df.libgen_date.notnull()]\n",
    "\n",
    "# Subset columns\n",
    "merged_df = merged_df[['doi', 'issued', 'libgen_date']]\n",
    "\n",
    "merged_df.head(3)"
   ]
  },
  {
   "cell_type": "code",
   "execution_count": 8,
   "metadata": {
    "collapsed": true
   },
   "outputs": [],
   "source": [
    "def months_between_datetimes(date_from, date_to):\n",
    "    \"\"\"\n",
    "    Compute the number of calendar months (rather than 30 day units)\n",
    "    between two dates.\n",
    "    \n",
    "    date_from and date_to are pandas datetime series .dt attributes\n",
    "    \n",
    "    See http://stackoverflow.com/a/4040338/4651668.\n",
    "    \"\"\"\n",
    "    delta_years = 12 * (date_to.year - date_from.year)\n",
    "    delta_months = date_to.month - date_from.month\n",
    "    return delta_years + delta_months"
   ]
  },
  {
   "cell_type": "code",
   "execution_count": 9,
   "metadata": {
    "collapsed": true
   },
   "outputs": [],
   "source": [
    "merged_df['lag_timedelta'] = merged_df.libgen_date - merged_df.issued\n",
    "\n",
    "# Remove any negative lag times which imply inaccurate issued dates\n",
    "# Up to 1 day prior is allowed to account for potential timezone issues\n",
    "merged_df = merged_df[~(merged_df.lag_timedelta < pandas.Timedelta('-1 days'))]\n",
    "\n",
    "# Compute lag in days\n",
    "# merged_df.lag_timedelta.dt.days is redicolously slow, hence use this alternative\n",
    "merged_df['lag_days'] = numpy.trunc(merged_df.lag_timedelta / pandas.Timedelta('1 day'))\n",
    "\n",
    "# Compute lag in calendar months\n",
    "merged_df['lag_months'] = months_between_datetimes(merged_df.issued.dt, merged_df.libgen_date.dt)\n",
    "\n",
    "# Replace negative lags with 0\n",
    "for column in 'lag_days', 'lag_months':\n",
    "    merged_df[column] = merged_df[column].clip_lower(0)"
   ]
  },
  {
   "cell_type": "code",
   "execution_count": 10,
   "metadata": {},
   "outputs": [
    {
     "data": {
      "text/html": [
       "<div>\n",
       "<table border=\"1\" class=\"dataframe\">\n",
       "  <thead>\n",
       "    <tr style=\"text-align: right;\">\n",
       "      <th></th>\n",
       "      <th>doi</th>\n",
       "      <th>issued</th>\n",
       "      <th>libgen_date</th>\n",
       "      <th>lag_timedelta</th>\n",
       "      <th>lag_days</th>\n",
       "      <th>lag_months</th>\n",
       "    </tr>\n",
       "  </thead>\n",
       "  <tbody>\n",
       "    <tr>\n",
       "      <th>6490104</th>\n",
       "      <td>10.1007/pl00012535</td>\n",
       "      <td>2002-11-01</td>\n",
       "      <td>2014-10-12 04:23:17</td>\n",
       "      <td>4363 days 04:23:17</td>\n",
       "      <td>4363.0</td>\n",
       "      <td>143.0</td>\n",
       "    </tr>\n",
       "    <tr>\n",
       "      <th>11820760</th>\n",
       "      <td>10.1016/j.apradiso.2016.01.029</td>\n",
       "      <td>2016-04-01</td>\n",
       "      <td>2016-04-11 10:35:25</td>\n",
       "      <td>10 days 10:35:25</td>\n",
       "      <td>10.0</td>\n",
       "      <td>0.0</td>\n",
       "    </tr>\n",
       "    <tr>\n",
       "      <th>14514001</th>\n",
       "      <td>10.1016/j.jradnu.2004.01.006</td>\n",
       "      <td>2004-03-01</td>\n",
       "      <td>2014-08-09 04:56:11</td>\n",
       "      <td>3813 days 04:56:11</td>\n",
       "      <td>3813.0</td>\n",
       "      <td>125.0</td>\n",
       "    </tr>\n",
       "    <tr>\n",
       "      <th>18713939</th>\n",
       "      <td>10.1016/s0363-5023(03)00303-4</td>\n",
       "      <td>2003-09-01</td>\n",
       "      <td>2014-08-09 04:56:11</td>\n",
       "      <td>3995 days 04:56:11</td>\n",
       "      <td>3995.0</td>\n",
       "      <td>131.0</td>\n",
       "    </tr>\n",
       "    <tr>\n",
       "      <th>23478542</th>\n",
       "      <td>10.1038/sj.ijo.0803682</td>\n",
       "      <td>2007-07-17</td>\n",
       "      <td>2015-09-24 18:33:31</td>\n",
       "      <td>2991 days 18:33:31</td>\n",
       "      <td>2991.0</td>\n",
       "      <td>98.0</td>\n",
       "    </tr>\n",
       "    <tr>\n",
       "      <th>24331526</th>\n",
       "      <td>10.1055/s-0032-1318311</td>\n",
       "      <td>2013-02-20</td>\n",
       "      <td>2015-06-29 09:43:16</td>\n",
       "      <td>859 days 09:43:16</td>\n",
       "      <td>859.0</td>\n",
       "      <td>28.0</td>\n",
       "    </tr>\n",
       "    <tr>\n",
       "      <th>27825405</th>\n",
       "      <td>10.1080/19368623.2011.647264</td>\n",
       "      <td>2013-02-01</td>\n",
       "      <td>2015-07-31 10:23:29</td>\n",
       "      <td>910 days 10:23:29</td>\n",
       "      <td>910.0</td>\n",
       "      <td>29.0</td>\n",
       "    </tr>\n",
       "    <tr>\n",
       "      <th>27984950</th>\n",
       "      <td>10.1084/jem.156.4.1165</td>\n",
       "      <td>1982-10-01</td>\n",
       "      <td>2015-06-19 21:24:27</td>\n",
       "      <td>11949 days 21:24:27</td>\n",
       "      <td>11949.0</td>\n",
       "      <td>392.0</td>\n",
       "    </tr>\n",
       "    <tr>\n",
       "      <th>29341726</th>\n",
       "      <td>10.1093/acprof:oso/9780199239115.003.0021</td>\n",
       "      <td>2008-12-04</td>\n",
       "      <td>NaT</td>\n",
       "      <td>NaT</td>\n",
       "      <td>NaN</td>\n",
       "      <td>NaN</td>\n",
       "    </tr>\n",
       "    <tr>\n",
       "      <th>36988212</th>\n",
       "      <td>10.1111/j.1475-6803.1982.tb00296.x</td>\n",
       "      <td>1982-09-01</td>\n",
       "      <td>2016-07-08 22:55:17</td>\n",
       "      <td>12364 days 22:55:17</td>\n",
       "      <td>12364.0</td>\n",
       "      <td>406.0</td>\n",
       "    </tr>\n",
       "    <tr>\n",
       "      <th>37100323</th>\n",
       "      <td>10.1111/j.1530-0277.1989.tb00426.x</td>\n",
       "      <td>1989-12-01</td>\n",
       "      <td>2016-07-12 14:42:36</td>\n",
       "      <td>9720 days 14:42:36</td>\n",
       "      <td>9720.0</td>\n",
       "      <td>319.0</td>\n",
       "    </tr>\n",
       "    <tr>\n",
       "      <th>38830601</th>\n",
       "      <td>10.1121/1.2016674</td>\n",
       "      <td>1978-05-01</td>\n",
       "      <td>NaT</td>\n",
       "      <td>NaT</td>\n",
       "      <td>NaN</td>\n",
       "      <td>NaN</td>\n",
       "    </tr>\n",
       "    <tr>\n",
       "      <th>43801548</th>\n",
       "      <td>10.1201/9781315364889-8</td>\n",
       "      <td>2016-06-08</td>\n",
       "      <td>2016-10-21 02:27:03</td>\n",
       "      <td>135 days 02:27:03</td>\n",
       "      <td>135.0</td>\n",
       "      <td>4.0</td>\n",
       "    </tr>\n",
       "    <tr>\n",
       "      <th>45241646</th>\n",
       "      <td>10.1364/ao.50.006652</td>\n",
       "      <td>2011-12-16</td>\n",
       "      <td>NaT</td>\n",
       "      <td>NaT</td>\n",
       "      <td>NaN</td>\n",
       "      <td>NaN</td>\n",
       "    </tr>\n",
       "    <tr>\n",
       "      <th>51521828</th>\n",
       "      <td>10.3724/sp.j.1008.2009.00747</td>\n",
       "      <td>2010-02-02</td>\n",
       "      <td>NaT</td>\n",
       "      <td>NaT</td>\n",
       "      <td>NaN</td>\n",
       "      <td>NaN</td>\n",
       "    </tr>\n",
       "  </tbody>\n",
       "</table>\n",
       "</div>"
      ],
      "text/plain": [
       "                                                doi     issued  \\\n",
       "6490104                          10.1007/pl00012535 2002-11-01   \n",
       "11820760             10.1016/j.apradiso.2016.01.029 2016-04-01   \n",
       "14514001               10.1016/j.jradnu.2004.01.006 2004-03-01   \n",
       "18713939              10.1016/s0363-5023(03)00303-4 2003-09-01   \n",
       "23478542                     10.1038/sj.ijo.0803682 2007-07-17   \n",
       "24331526                     10.1055/s-0032-1318311 2013-02-20   \n",
       "27825405               10.1080/19368623.2011.647264 2013-02-01   \n",
       "27984950                     10.1084/jem.156.4.1165 1982-10-01   \n",
       "29341726  10.1093/acprof:oso/9780199239115.003.0021 2008-12-04   \n",
       "36988212         10.1111/j.1475-6803.1982.tb00296.x 1982-09-01   \n",
       "37100323         10.1111/j.1530-0277.1989.tb00426.x 1989-12-01   \n",
       "38830601                          10.1121/1.2016674 1978-05-01   \n",
       "43801548                    10.1201/9781315364889-8 2016-06-08   \n",
       "45241646                       10.1364/ao.50.006652 2011-12-16   \n",
       "51521828               10.3724/sp.j.1008.2009.00747 2010-02-02   \n",
       "\n",
       "                 libgen_date       lag_timedelta  lag_days  lag_months  \n",
       "6490104  2014-10-12 04:23:17  4363 days 04:23:17    4363.0       143.0  \n",
       "11820760 2016-04-11 10:35:25    10 days 10:35:25      10.0         0.0  \n",
       "14514001 2014-08-09 04:56:11  3813 days 04:56:11    3813.0       125.0  \n",
       "18713939 2014-08-09 04:56:11  3995 days 04:56:11    3995.0       131.0  \n",
       "23478542 2015-09-24 18:33:31  2991 days 18:33:31    2991.0        98.0  \n",
       "24331526 2015-06-29 09:43:16   859 days 09:43:16     859.0        28.0  \n",
       "27825405 2015-07-31 10:23:29   910 days 10:23:29     910.0        29.0  \n",
       "27984950 2015-06-19 21:24:27 11949 days 21:24:27   11949.0       392.0  \n",
       "29341726                 NaT                 NaT       NaN         NaN  \n",
       "36988212 2016-07-08 22:55:17 12364 days 22:55:17   12364.0       406.0  \n",
       "37100323 2016-07-12 14:42:36  9720 days 14:42:36    9720.0       319.0  \n",
       "38830601                 NaT                 NaT       NaN         NaN  \n",
       "43801548 2016-10-21 02:27:03   135 days 02:27:03     135.0         4.0  \n",
       "45241646                 NaT                 NaT       NaN         NaN  \n",
       "51521828                 NaT                 NaT       NaN         NaN  "
      ]
     },
     "execution_count": 10,
     "metadata": {},
     "output_type": "execute_result"
    }
   ],
   "source": [
    "# View random rows\n",
    "merged_df.sample(n=15, random_state=0).sort_values('doi')"
   ]
  },
  {
   "cell_type": "code",
   "execution_count": 11,
   "metadata": {},
   "outputs": [
    {
     "data": {
      "image/png": "[encoded data removed]",
      "text/plain": [
       "<matplotlib.figure.Figure at 0x7f0ab8e3a5c0>"
      ]
     },
     "metadata": {},
     "output_type": "display_data"
    }
   ],
   "source": [
    "# Distribution of day of the month\n",
    "recent_df = merged_df[merged_df.issued.dt.year >= recent]\n",
    "axes = seaborn.distplot(recent_df.issued.dt.day, bins=numpy.arange(31) + 1, kde=False)"
   ]
  },
  {
   "cell_type": "code",
   "execution_count": 12,
   "metadata": {},
   "outputs": [
    {
     "data": {
      "image/png": "[encoded data removed]",
      "text/plain": [
       "<matplotlib.figure.Figure at 0x7f0ae6594630>"
      ]
     },
     "metadata": {},
     "output_type": "display_data"
    }
   ],
   "source": [
    "# Distribution of lag in months\n",
    "axes = seaborn.distplot(recent_df.lag_months.dropna(), kde=False)"
   ]
  },
  {
   "cell_type": "code",
   "execution_count": 13,
   "metadata": {},
   "outputs": [
    {
     "data": {
      "image/png": "[encoded data removed]",
      "text/plain": [
       "<matplotlib.figure.Figure at 0x7f0aecbb3b00>"
      ]
     },
     "metadata": {},
     "output_type": "display_data"
    }
   ],
   "source": [
    "# Distribution of lag in days\n",
    "# Removing articles issued on the first of the month\n",
    "axes = seaborn.distplot(recent_df[recent_df.issued.dt.day != 1].lag_days.dropna(), kde=False)"
   ]
  },
  {
   "cell_type": "code",
   "execution_count": 14,
   "metadata": {},
   "outputs": [
    {
     "data": {
      "text/plain": [
       "True     38392773\n",
       "False    15201906\n",
       "Name: lag_days, dtype: int64"
      ]
     },
     "execution_count": 14,
     "metadata": {},
     "output_type": "execute_result"
    }
   ],
   "source": [
    "# Number of works remaining by inclusion status\n",
    "merged_df.lag_days.notnull().value_counts()"
   ]
  },
  {
   "cell_type": "code",
   "execution_count": 15,
   "metadata": {
    "collapsed": true
   },
   "outputs": [],
   "source": [
    "# Export libgen lagtime dataframe to TSV\n",
    "(merged_df\n",
    "    # So pandas writes 2006-02-27 instead of 2006-02-27 00:00:00\n",
    "    .assign(issued=merged_df.issued.values.astype('datetime64[D]').astype(str))\n",
    "    .drop(['lag_timedelta'], axis='columns')\n",
    "    .to_csv(\n",
    "        os.path.join('data', 'libgen-lagtime.tsv.xz'),\n",
    "        sep='\\t', index=False, compression='xz', float_format='%.5g'\n",
    "    )\n",
    ")"
   ]
  }
 ],
 "metadata": {
  "kernelspec": {
   "display_name": "Python [conda env:scihub]",
   "language": "python",
   "name": "conda-env-scihub-py"
  },
  "language_info": {
   "codemirror_mode": {
    "name": "ipython",
    "version": 3
   },
   "file_extension": ".py",
   "mimetype": "text/x-python",
   "name": "python",
   "nbconvert_exporter": "python",
   "pygments_lexer": "ipython3",
   "version": "3.6.0"
  }
 },
 "nbformat": 4,
 "nbformat_minor": 2
}
