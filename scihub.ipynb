{
 "cells": [
  {
   "cell_type": "markdown",
   "metadata": {},
   "source": [
    "# Assess sci-hub coverage\n",
    "\n",
    "\n",
    "https://github.com/CrossRef/rest-api-doc/blob/master/rest_api.md\n",
    "\n",
    "Crossref response headers gave the following rate limits:\n",
    "\n",
    "```\n",
    "'X-Rate-Limit-Limit': '15', 'X-Rate-Limit-Interval': '1s'\n",
    "'X-Rate-Limit-Limit': '50', 'X-Rate-Limit-Interval': '1s'\n",
    "```"
   ]
  },
  {
   "cell_type": "code",
   "execution_count": 1,
   "metadata": {
    "collapsed": true
   },
   "outputs": [],
   "source": [
    "import collections\n",
    "import lzma\n",
    "\n",
    "import requests\n",
    "import pandas\n",
    "import ratelimit"
   ]
  },
  {
   "cell_type": "code",
   "execution_count": 2,
   "metadata": {
    "collapsed": false
   },
   "outputs": [
    {
     "data": {
      "text/plain": [
       "2755"
      ]
     },
     "execution_count": 2,
     "metadata": {},
     "output_type": "execute_result"
    }
   ],
   "source": [
    "owner_counts = collections.Counter()\n",
    "with lzma.open('download/doi.log.xz', 'rt', encoding='cp1252') as read_file:\n",
    "    for doi in read_file:\n",
    "        doi = doi.strip()\n",
    "        owner, tail = doi.split('/', 1)\n",
    "        owner = owner.strip('.')\n",
    "        owner_counts[owner] += 1\n",
    "len(owner_counts)"
   ]
  },
  {
   "cell_type": "code",
   "execution_count": 3,
   "metadata": {
    "collapsed": false
   },
   "outputs": [
    {
     "data": {
      "text/plain": [
       "[('10.1016', 13589980),\n",
       " ('10.2307', 8177982),\n",
       " ('10.1007', 5478746),\n",
       " ('10.1109', 3629718),\n",
       " ('10.1002', 3552210)]"
      ]
     },
     "execution_count": 3,
     "metadata": {},
     "output_type": "execute_result"
    }
   ],
   "source": [
    "owner_counts.most_common(n=5)"
   ]
  },
  {
   "cell_type": "code",
   "execution_count": 4,
   "metadata": {
    "collapsed": false
   },
   "outputs": [
    {
     "data": {
      "text/html": [
       "<div>\n",
       "<table border=\"1\" class=\"dataframe\">\n",
       "  <thead>\n",
       "    <tr style=\"text-align: right;\">\n",
       "      <th></th>\n",
       "      <th>owner</th>\n",
       "      <th>scihub_count</th>\n",
       "    </tr>\n",
       "  </thead>\n",
       "  <tbody>\n",
       "    <tr>\n",
       "      <th>0</th>\n",
       "      <td>10.1000</td>\n",
       "      <td>16</td>\n",
       "    </tr>\n",
       "    <tr>\n",
       "      <th>1</th>\n",
       "      <td>10.10002</td>\n",
       "      <td>5</td>\n",
       "    </tr>\n",
       "  </tbody>\n",
       "</table>\n",
       "</div>"
      ],
      "text/plain": [
       "      owner  scihub_count\n",
       "0   10.1000            16\n",
       "1  10.10002             5"
      ]
     },
     "execution_count": 4,
     "metadata": {},
     "output_type": "execute_result"
    }
   ],
   "source": [
    "owner_df = pandas.DataFrame(list(owner_counts.items()), columns=['owner', 'scihub_count'])\n",
    "owner_df.head(2)"
   ]
  },
  {
   "cell_type": "code",
   "execution_count": 5,
   "metadata": {
    "collapsed": false
   },
   "outputs": [],
   "source": [
    "@ratelimit.rate_limited(15)\n",
    "def get_crossref_info(owner):\n",
    "    \"\"\"\n",
    "    https://github.com/CrossRef/rest-api-doc/blob/master/rest_api.md\n",
    "    \"\"\"\n",
    "    info = collections.OrderedDict()\n",
    "    info['owner'] = owner\n",
    "    url = f'https://api.crossref.org/prefixes/{owner}'\n",
    "    response = requests.get(url)\n",
    "    if response.status_code == 404:\n",
    "        return None\n",
    "    result = response.json()\n",
    "    owner_info = result['message']\n",
    "    info['name'] = owner_info['name']\n",
    "    info['member_id'] = int(owner_info['member'].rsplit('/', 1)[-1])\n",
    "    info['prefix'] = owner_info['prefix'].rsplit('/', 1)[-1]\n",
    "\n",
    "    url = f'https://api.crossref.org/prefixes/{owner}/works?rows=1'\n",
    "    response = requests.get(url)\n",
    "    result = response.json()\n",
    "    info['crossref_count'] = result['message']['total-results']\n",
    "    return info"
   ]
  },
  {
   "cell_type": "code",
   "execution_count": 9,
   "metadata": {
    "collapsed": false
   },
   "outputs": [],
   "source": [
    "infos = list()\n",
    "for owner in owner_df.owner:\n",
    "    info = get_crossref_info(owner)\n",
    "    if info:\n",
    "        infos.append(info)\n",
    "crossref_df = pandas.DataFrame(infos)"
   ]
  },
  {
   "cell_type": "code",
   "execution_count": 14,
   "metadata": {
    "collapsed": false
   },
   "outputs": [
    {
     "data": {
      "text/html": [
       "<div>\n",
       "<table border=\"1\" class=\"dataframe\">\n",
       "  <thead>\n",
       "    <tr style=\"text-align: right;\">\n",
       "      <th></th>\n",
       "      <th>owner</th>\n",
       "      <th>name</th>\n",
       "      <th>member_id</th>\n",
       "      <th>prefix</th>\n",
       "      <th>crossref_count</th>\n",
       "    </tr>\n",
       "  </thead>\n",
       "  <tbody>\n",
       "    <tr>\n",
       "      <th>0</th>\n",
       "      <td>10.1001</td>\n",
       "      <td>American Medical Association (AMA)</td>\n",
       "      <td>10</td>\n",
       "      <td>10.1001</td>\n",
       "      <td>587363</td>\n",
       "    </tr>\n",
       "    <tr>\n",
       "      <th>1</th>\n",
       "      <td>10.1002</td>\n",
       "      <td>Wiley-Blackwell</td>\n",
       "      <td>311</td>\n",
       "      <td>10.1002</td>\n",
       "      <td>5131903</td>\n",
       "    </tr>\n",
       "  </tbody>\n",
       "</table>\n",
       "</div>"
      ],
      "text/plain": [
       "     owner                                name  member_id   prefix  \\\n",
       "0  10.1001  American Medical Association (AMA)         10  10.1001   \n",
       "1  10.1002                     Wiley-Blackwell        311  10.1002   \n",
       "\n",
       "   crossref_count  \n",
       "0          587363  \n",
       "1         5131903  "
      ]
     },
     "execution_count": 14,
     "metadata": {},
     "output_type": "execute_result"
    }
   ],
   "source": [
    "crossref_df.head(2)"
   ]
  },
  {
   "cell_type": "code",
   "execution_count": 16,
   "metadata": {
    "collapsed": false
   },
   "outputs": [
    {
     "data": {
      "text/html": [
       "<div>\n",
       "<table border=\"1\" class=\"dataframe\">\n",
       "  <thead>\n",
       "    <tr style=\"text-align: right;\">\n",
       "      <th></th>\n",
       "      <th>owner</th>\n",
       "      <th>scihub_count</th>\n",
       "      <th>name</th>\n",
       "      <th>member_id</th>\n",
       "      <th>prefix</th>\n",
       "      <th>crossref_count</th>\n",
       "      <th>coverage</th>\n",
       "    </tr>\n",
       "  </thead>\n",
       "  <tbody>\n",
       "    <tr>\n",
       "      <th>0</th>\n",
       "      <td>10.1001</td>\n",
       "      <td>478939</td>\n",
       "      <td>American Medical Association (AMA)</td>\n",
       "      <td>10</td>\n",
       "      <td>10.1001</td>\n",
       "      <td>587363</td>\n",
       "      <td>0.815405</td>\n",
       "    </tr>\n",
       "    <tr>\n",
       "      <th>1</th>\n",
       "      <td>10.1002</td>\n",
       "      <td>3552210</td>\n",
       "      <td>Wiley-Blackwell</td>\n",
       "      <td>311</td>\n",
       "      <td>10.1002</td>\n",
       "      <td>5131903</td>\n",
       "      <td>0.692182</td>\n",
       "    </tr>\n",
       "    <tr>\n",
       "      <th>2</th>\n",
       "      <td>10.1006</td>\n",
       "      <td>216291</td>\n",
       "      <td>Elsevier BV</td>\n",
       "      <td>78</td>\n",
       "      <td>10.1006</td>\n",
       "      <td>200881</td>\n",
       "      <td>1.076712</td>\n",
       "    </tr>\n",
       "  </tbody>\n",
       "</table>\n",
       "</div>"
      ],
      "text/plain": [
       "     owner  scihub_count                                name  member_id  \\\n",
       "0  10.1001        478939  American Medical Association (AMA)         10   \n",
       "1  10.1002       3552210                     Wiley-Blackwell        311   \n",
       "2  10.1006        216291                         Elsevier BV         78   \n",
       "\n",
       "    prefix  crossref_count  coverage  \n",
       "0  10.1001          587363  0.815405  \n",
       "1  10.1002         5131903  0.692182  \n",
       "2  10.1006          200881  1.076712  "
      ]
     },
     "execution_count": 16,
     "metadata": {},
     "output_type": "execute_result"
    }
   ],
   "source": [
    "merged_df = owner_df.merge(crossref_df)\n",
    "merged_df['coverage'] = merged_df.scihub_count / merged_df.crossref_count\n",
    "merged_df.head(3)"
   ]
  },
  {
   "cell_type": "code",
   "execution_count": 18,
   "metadata": {
    "collapsed": true
   },
   "outputs": [],
   "source": [
    "merged_df.to_csv('data/doi-prefixes.tsv', sep='\\t', float_format='%.4g', index=False)"
   ]
  }
 ],
 "metadata": {
  "kernelspec": {
   "display_name": "Python [conda root]",
   "language": "python",
   "name": "conda-root-py"
  },
  "language_info": {
   "codemirror_mode": {
    "name": "ipython",
    "version": 3
   },
   "file_extension": ".py",
   "mimetype": "text/x-python",
   "name": "python",
   "nbconvert_exporter": "python",
   "pygments_lexer": "ipython3",
   "version": "3.6.0"
  }
 },
 "nbformat": 4,
 "nbformat_minor": 2
}
