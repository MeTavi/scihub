{
 "cells": [
  {
   "cell_type": "markdown",
   "metadata": {},
   "source": [
    "# Compute SciHub coverage of journals and publishers in Scopus\n",
    "\n",
    "See all Crossref API types at https://api.crossref.org/types."
   ]
  },
  {
   "cell_type": "code",
   "execution_count": 1,
   "metadata": {
    "collapsed": true
   },
   "outputs": [],
   "source": [
    "import collections\n",
    "import io\n",
    "import lzma\n",
    "import os\n",
    "\n",
    "import pandas\n",
    "import requests"
   ]
  },
  {
   "cell_type": "code",
   "execution_count": 2,
   "metadata": {
    "collapsed": true
   },
   "outputs": [],
   "source": [
    "cr_commit = '59b7db69534d82452883092852382f6374247fa2'\n",
    "jm_commit = 'c91c3330a7231bd12801650cbf18786340808fc6'"
   ]
  },
  {
   "cell_type": "markdown",
   "metadata": {},
   "source": [
    "## Generate DOI to scopus title mapping"
   ]
  },
  {
   "cell_type": "code",
   "execution_count": 3,
   "metadata": {
    "collapsed": true
   },
   "outputs": [],
   "source": [
    "def read_xz_url(url, **kwargs):\n",
    "    \"\"\"\n",
    "    Read xz-compressed TSV from a URL.\n",
    "    Will no longer be needed in pandas 0.20 (https://git.io/vSaNV)\n",
    "    \"\"\"\n",
    "    response = requests.get(url)\n",
    "    buffer = io.BytesIO(response.content)\n",
    "    return pandas.read_table(buffer, compression='xz', **kwargs)"
   ]
  },
  {
   "cell_type": "code",
   "execution_count": 4,
   "metadata": {
    "scrolled": true
   },
   "outputs": [
    {
     "data": {
      "text/html": [
       "<div>\n",
       "<table border=\"1\" class=\"dataframe\">\n",
       "  <thead>\n",
       "    <tr style=\"text-align: right;\">\n",
       "      <th></th>\n",
       "      <th>scopus_id</th>\n",
       "      <th>doi</th>\n",
       "    </tr>\n",
       "  </thead>\n",
       "  <tbody>\n",
       "    <tr>\n",
       "      <th>0</th>\n",
       "      <td>12001</td>\n",
       "      <td>10.1002/(issn)1938-3711</td>\n",
       "    </tr>\n",
       "    <tr>\n",
       "      <th>1</th>\n",
       "      <td>12001</td>\n",
       "      <td>10.1002/jeab.1</td>\n",
       "    </tr>\n",
       "  </tbody>\n",
       "</table>\n",
       "</div>"
      ],
      "text/plain": [
       "   scopus_id                      doi\n",
       "0      12001  10.1002/(issn)1938-3711\n",
       "1      12001           10.1002/jeab.1"
      ]
     },
     "execution_count": 4,
     "metadata": {},
     "output_type": "execute_result"
    }
   ],
   "source": [
    "# Read ISSN to DOI mapping\n",
    "url = f'https://github.com/greenelab/crossref/raw/{cr_commit}/data/doi-to-issn.tsv.xz'\n",
    "issn_to_doi_df = read_xz_url(url, dtype={'issued': str})\n",
    "\n",
    "# Read ISSN to Scopus mapping\n",
    "url = f'https://github.com/dhimmel/journalmetrics/raw/{jm_commit}/data/issn.tsv'\n",
    "issn_to_scopus_df = pandas.read_table(url)\n",
    "\n",
    "# Create a DOI to ISSN mapping\n",
    "scopus_to_doi_df = (\n",
    "    issn_to_scopus_df\n",
    "    .merge(issn_to_doi_df)\n",
    "    [['scopus_id', 'doi']]\n",
    "    .drop_duplicates()\n",
    ")\n",
    "\n",
    "# Remove large files from memory\n",
    "del issn_to_doi_df\n",
    "del issn_to_scopus_df\n",
    "\n",
    "scopus_to_doi_df.head(2)"
   ]
  },
  {
   "cell_type": "code",
   "execution_count": 5,
   "metadata": {},
   "outputs": [
    {
     "data": {
      "text/html": [
       "<div>\n",
       "<table border=\"1\" class=\"dataframe\">\n",
       "  <thead>\n",
       "    <tr style=\"text-align: right;\">\n",
       "      <th></th>\n",
       "      <th>scopus_id</th>\n",
       "      <th>doi</th>\n",
       "      <th>type</th>\n",
       "      <th>issued</th>\n",
       "    </tr>\n",
       "  </thead>\n",
       "  <tbody>\n",
       "    <tr>\n",
       "      <th>0</th>\n",
       "      <td>12001</td>\n",
       "      <td>10.1002/(issn)1938-3711</td>\n",
       "      <td>journal</td>\n",
       "      <td>NaN</td>\n",
       "    </tr>\n",
       "    <tr>\n",
       "      <th>1</th>\n",
       "      <td>12001</td>\n",
       "      <td>10.1002/jeab.1</td>\n",
       "      <td>journal-article</td>\n",
       "      <td>2012-12-05</td>\n",
       "    </tr>\n",
       "  </tbody>\n",
       "</table>\n",
       "</div>"
      ],
      "text/plain": [
       "   scopus_id                      doi             type      issued\n",
       "0      12001  10.1002/(issn)1938-3711          journal         NaN\n",
       "1      12001           10.1002/jeab.1  journal-article  2012-12-05"
      ]
     },
     "execution_count": 5,
     "metadata": {},
     "output_type": "execute_result"
    }
   ],
   "source": [
    "# Read ISSN to DOI mapping\n",
    "url = f'https://github.com/greenelab/crossref/raw/{cr_commit}/data/doi.tsv.xz'\n",
    "doi_df = read_xz_url(url, dtype={'issued': str})\n",
    "scopus_to_doi_df = scopus_to_doi_df.merge(doi_df)\n",
    "scopus_to_doi_df.head(2)"
   ]
  },
  {
   "cell_type": "code",
   "execution_count": 6,
   "metadata": {},
   "outputs": [
    {
     "data": {
      "text/plain": [
       "50921074"
      ]
     },
     "execution_count": 6,
     "metadata": {},
     "output_type": "execute_result"
    }
   ],
   "source": [
    "len(scopus_to_doi_df)"
   ]
  },
  {
   "cell_type": "markdown",
   "metadata": {},
   "source": [
    "## Add presence in SciHub for each DOI"
   ]
  },
  {
   "cell_type": "code",
   "execution_count": 7,
   "metadata": {},
   "outputs": [
    {
     "data": {
      "text/plain": [
       "62787217"
      ]
     },
     "execution_count": 7,
     "metadata": {},
     "output_type": "execute_result"
    }
   ],
   "source": [
    "# Read DOIs in SciHub\n",
    "with lzma.open('download/scihub-dois/doi.log.xz', 'rt', encoding='cp1252') as read_file:\n",
    "    scihub_dois = {doi.rstrip() for doi in read_file}\n",
    "len(scihub_dois)"
   ]
  },
  {
   "cell_type": "code",
   "execution_count": 8,
   "metadata": {},
   "outputs": [
    {
     "data": {
      "text/html": [
       "<div>\n",
       "<table border=\"1\" class=\"dataframe\">\n",
       "  <thead>\n",
       "    <tr style=\"text-align: right;\">\n",
       "      <th></th>\n",
       "      <th>scopus_id</th>\n",
       "      <th>doi</th>\n",
       "      <th>type</th>\n",
       "      <th>issued</th>\n",
       "      <th>scihub</th>\n",
       "    </tr>\n",
       "  </thead>\n",
       "  <tbody>\n",
       "    <tr>\n",
       "      <th>0</th>\n",
       "      <td>12001</td>\n",
       "      <td>10.1002/(issn)1938-3711</td>\n",
       "      <td>journal</td>\n",
       "      <td>NaN</td>\n",
       "      <td>0</td>\n",
       "    </tr>\n",
       "    <tr>\n",
       "      <th>1</th>\n",
       "      <td>12001</td>\n",
       "      <td>10.1002/jeab.1</td>\n",
       "      <td>journal-article</td>\n",
       "      <td>2012-12-05</td>\n",
       "      <td>1</td>\n",
       "    </tr>\n",
       "  </tbody>\n",
       "</table>\n",
       "</div>"
      ],
      "text/plain": [
       "   scopus_id                      doi             type      issued  scihub\n",
       "0      12001  10.1002/(issn)1938-3711          journal         NaN       0\n",
       "1      12001           10.1002/jeab.1  journal-article  2012-12-05       1"
      ]
     },
     "execution_count": 8,
     "metadata": {},
     "output_type": "execute_result"
    }
   ],
   "source": [
    "# Note whether a given DOI is in SciHub\n",
    "scopus_to_doi_df['scihub'] = scopus_to_doi_df.doi.isin(scihub_dois).astype(int)\n",
    "scopus_to_doi_df.head(2)"
   ]
  },
  {
   "cell_type": "code",
   "execution_count": 9,
   "metadata": {},
   "outputs": [
    {
     "data": {
      "text/plain": [
       "1    38461586\n",
       "0    12459488\n",
       "Name: scihub, dtype: int64"
      ]
     },
     "execution_count": 9,
     "metadata": {},
     "output_type": "execute_result"
    }
   ],
   "source": [
    "scopus_to_doi_df.scihub.value_counts()"
   ]
  },
  {
   "cell_type": "code",
   "execution_count": 10,
   "metadata": {},
   "outputs": [
    {
     "data": {
      "text/plain": [
       "'75.532%'"
      ]
     },
     "execution_count": 10,
     "metadata": {},
     "output_type": "execute_result"
    }
   ],
   "source": [
    "'{:.3%}'.format(scopus_to_doi_df.scihub.mean())"
   ]
  },
  {
   "cell_type": "markdown",
   "metadata": {},
   "source": [
    "## Read Scopus title metadata"
   ]
  },
  {
   "cell_type": "code",
   "execution_count": 11,
   "metadata": {
    "collapsed": true
   },
   "outputs": [],
   "source": [
    "# Read Scopus title names\n",
    "url = f'https://github.com/dhimmel/journalmetrics/raw/{jm_commit}/data/titles.tsv'\n",
    "journal_df = pandas.read_table(url)\n",
    "\n",
    "# Read Scopus title attributes\n",
    "url = f'https://github.com/dhimmel/journalmetrics/raw/{jm_commit}/data/title-attributes.tsv'\n",
    "attrib_df = pandas.read_table(url)"
   ]
  },
  {
   "cell_type": "markdown",
   "metadata": {},
   "source": [
    "## Compute journal coverage by type"
   ]
  },
  {
   "cell_type": "code",
   "execution_count": 12,
   "metadata": {},
   "outputs": [],
   "source": [
    "def compute_coverage(df):\n",
    "    row = collections.OrderedDict()\n",
    "    row['scihub'] = sum(df.scihub)\n",
    "    row['crossref'] = len(df)\n",
    "    row['coverage'] = df.scihub.mean()\n",
    "    return row\n",
    "\n",
    "results = scopus_to_doi_df.groupby(['scopus_id', 'type']).apply(compute_coverage)\n",
    "journal_coverage_df = pandas.DataFrame(list(results), index=results.index).reset_index()\n",
    "journal_coverage_df = journal_df.merge(journal_coverage_df)"
   ]
  },
  {
   "cell_type": "code",
   "execution_count": 13,
   "metadata": {},
   "outputs": [
    {
     "data": {
      "text/html": [
       "<div>\n",
       "<table border=\"1\" class=\"dataframe\">\n",
       "  <thead>\n",
       "    <tr style=\"text-align: right;\">\n",
       "      <th></th>\n",
       "      <th>scopus_id</th>\n",
       "      <th>title_name</th>\n",
       "      <th>type</th>\n",
       "      <th>scihub</th>\n",
       "      <th>crossref</th>\n",
       "      <th>coverage</th>\n",
       "    </tr>\n",
       "  </thead>\n",
       "  <tbody>\n",
       "    <tr>\n",
       "      <th>3307</th>\n",
       "      <td>16590</td>\n",
       "      <td>The Lancet</td>\n",
       "      <td>journal-article</td>\n",
       "      <td>86681</td>\n",
       "      <td>458580</td>\n",
       "      <td>0.189020</td>\n",
       "    </tr>\n",
       "    <tr>\n",
       "      <th>6720</th>\n",
       "      <td>21206</td>\n",
       "      <td>Nature</td>\n",
       "      <td>journal-article</td>\n",
       "      <td>384901</td>\n",
       "      <td>399273</td>\n",
       "      <td>0.964005</td>\n",
       "    </tr>\n",
       "    <tr>\n",
       "      <th>9981</th>\n",
       "      <td>25674</td>\n",
       "      <td>Lecture Notes in Computer Science</td>\n",
       "      <td>book-chapter</td>\n",
       "      <td>101248</td>\n",
       "      <td>356323</td>\n",
       "      <td>0.284147</td>\n",
       "    </tr>\n",
       "    <tr>\n",
       "      <th>8342</th>\n",
       "      <td>23571</td>\n",
       "      <td>Science</td>\n",
       "      <td>journal-article</td>\n",
       "      <td>230195</td>\n",
       "      <td>251083</td>\n",
       "      <td>0.916808</td>\n",
       "    </tr>\n",
       "  </tbody>\n",
       "</table>\n",
       "</div>"
      ],
      "text/plain": [
       "      scopus_id                         title_name             type  scihub  \\\n",
       "3307      16590                         The Lancet  journal-article   86681   \n",
       "6720      21206                             Nature  journal-article  384901   \n",
       "9981      25674  Lecture Notes in Computer Science     book-chapter  101248   \n",
       "8342      23571                            Science  journal-article  230195   \n",
       "\n",
       "      crossref  coverage  \n",
       "3307    458580  0.189020  \n",
       "6720    399273  0.964005  \n",
       "9981    356323  0.284147  \n",
       "8342    251083  0.916808  "
      ]
     },
     "execution_count": 13,
     "metadata": {},
     "output_type": "execute_result"
    }
   ],
   "source": [
    "journal_coverage_df.sort_values('crossref', ascending=False).head(4)"
   ]
  },
  {
   "cell_type": "markdown",
   "metadata": {},
   "source": [
    "## Compute publisher coverage by type"
   ]
  },
  {
   "cell_type": "code",
   "execution_count": 14,
   "metadata": {},
   "outputs": [],
   "source": [
    "def compute_coverage(df):\n",
    "    row = collections.OrderedDict()\n",
    "    row['scihub'] = sum(df.scihub)\n",
    "    row['crossref'] = sum(df.crossref)\n",
    "    row['coverage'] = row['scihub'] / row['crossref']\n",
    "    return row\n",
    "\n",
    "results = (journal_coverage_df\n",
    "    .merge(attrib_df)\n",
    "    .groupby(['main_publisher', 'type'])\n",
    "    .apply(compute_coverage)\n",
    ")\n",
    "publisher_coverage_df = pandas.DataFrame(list(results), index=results.index).reset_index()"
   ]
  },
  {
   "cell_type": "code",
   "execution_count": 15,
   "metadata": {},
   "outputs": [
    {
     "data": {
      "text/html": [
       "<div>\n",
       "<table border=\"1\" class=\"dataframe\">\n",
       "  <thead>\n",
       "    <tr style=\"text-align: right;\">\n",
       "      <th></th>\n",
       "      <th>main_publisher</th>\n",
       "      <th>type</th>\n",
       "      <th>scihub</th>\n",
       "      <th>crossref</th>\n",
       "      <th>coverage</th>\n",
       "    </tr>\n",
       "  </thead>\n",
       "  <tbody>\n",
       "    <tr>\n",
       "      <th>1838</th>\n",
       "      <td>Elsevier</td>\n",
       "      <td>journal-article</td>\n",
       "      <td>10651959</td>\n",
       "      <td>11837775</td>\n",
       "      <td>0.899828</td>\n",
       "    </tr>\n",
       "    <tr>\n",
       "      <th>5233</th>\n",
       "      <td>Springer Nature</td>\n",
       "      <td>journal-article</td>\n",
       "      <td>4569716</td>\n",
       "      <td>4805341</td>\n",
       "      <td>0.950966</td>\n",
       "    </tr>\n",
       "    <tr>\n",
       "      <th>6334</th>\n",
       "      <td>Wiley-Blackwell</td>\n",
       "      <td>journal-article</td>\n",
       "      <td>4004603</td>\n",
       "      <td>4241081</td>\n",
       "      <td>0.944241</td>\n",
       "    </tr>\n",
       "    <tr>\n",
       "      <th>6354</th>\n",
       "      <td>Wolters Kluwer Health</td>\n",
       "      <td>journal-article</td>\n",
       "      <td>1250710</td>\n",
       "      <td>1822575</td>\n",
       "      <td>0.686232</td>\n",
       "    </tr>\n",
       "  </tbody>\n",
       "</table>\n",
       "</div>"
      ],
      "text/plain": [
       "             main_publisher             type    scihub  crossref  coverage\n",
       "1838               Elsevier  journal-article  10651959  11837775  0.899828\n",
       "5233        Springer Nature  journal-article   4569716   4805341  0.950966\n",
       "6334        Wiley-Blackwell  journal-article   4004603   4241081  0.944241\n",
       "6354  Wolters Kluwer Health  journal-article   1250710   1822575  0.686232"
      ]
     },
     "execution_count": 15,
     "metadata": {},
     "output_type": "execute_result"
    }
   ],
   "source": [
    "publisher_coverage_df.sort_values('crossref', ascending=False).head(4)"
   ]
  },
  {
   "cell_type": "markdown",
   "metadata": {},
   "source": [
    "## Export datasets"
   ]
  },
  {
   "cell_type": "code",
   "execution_count": 16,
   "metadata": {},
   "outputs": [],
   "source": [
    "path = os.path.join('data', 'journal-coverage.tsv')\n",
    "journal_coverage_df.to_csv(path, index=False, sep='\\t', float_format='%.5g')\n",
    "\n",
    "path = os.path.join('data', 'publisher-coverage.tsv')\n",
    "publisher_coverage_df.to_csv(path, index=False, sep='\\t', float_format='%.5g')"
   ]
  },
  {
   "cell_type": "code",
   "execution_count": 17,
   "metadata": {
    "collapsed": true
   },
   "outputs": [],
   "source": [
    "path = os.path.join('data', 'doi.tsv.xz')\n",
    "scopus_to_doi_df.to_csv(path, index=False, sep='\\t', float_format='%.5g', compression='xz')"
   ]
  }
 ],
 "metadata": {
  "kernelspec": {
   "display_name": "Python [conda env:crossref]",
   "language": "python",
   "name": "conda-env-crossref-py"
  },
  "language_info": {
   "codemirror_mode": {
    "name": "ipython",
    "version": 3
   },
   "file_extension": ".py",
   "mimetype": "text/x-python",
   "name": "python",
   "nbconvert_exporter": "python",
   "pygments_lexer": "ipython3",
   "version": "3.6.0"
  }
 },
 "nbformat": 4,
 "nbformat_minor": 2
}
